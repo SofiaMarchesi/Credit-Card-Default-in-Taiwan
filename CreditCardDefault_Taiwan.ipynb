{
 "cells": [
  {
   "cell_type": "markdown",
   "metadata": {
    "id": "5FKEP_9hWlNa"
   },
   "source": [
    "# Credit Card Default Dataset in Taiwan\n",
    "\n",
    "source : https://archive.ics.uci.edu/ml/datasets/default+of+credit+card+clients#\n",
    "\n",
    " **FEATURES:**\n",
    "- ID: ID of each client\n",
    "- LIMIT_BAL: Amount of given credit in NT dollars (includes - individual and family/supplementary credit\n",
    "- SEX: Gender (1=male, 2=female)\n",
    "- EDUCATION: (1 = graduate school; 2 = university; 3 = high school; 0, 4, 5, 6 = others)\n",
    "- MARRIAGE: Marital status (1 = married; 2 = single; 3 = divorce; 0=others)\n",
    "- AGE: Age in years\n",
    "- PAY_0: Repayment status in September, 2005 (-2: No consumption; -1: Paid in full; 0: The use of revolving credit; 1 = payment delay for one month; 2 = payment delay for two months; . . .; 8 = payment delay for eight months; 9 = payment delay for nine months and above.)\n",
    "- PAY_2: Repayment status in August, 2005 (scale same as above)\n",
    "- PAY_3: Repayment status in July, 2005 (scale same as above)\n",
    "- PAY_4: Repayment status in June, 2005 (scale same as above)\n",
    "- PAY_5: Repayment status in May, 2005 (scale same as above)\n",
    "- PAY_6: Repayment status in April, 2005 (scale same as above)\n",
    "- BILL_AMT1: Amount of bill statement in September, 2005 (NT dollar)\n",
    "- BILL_AMT2: Amount of bill statement in August, 2005 (NT dollar)\n",
    "- BILL_AMT3: Amount of bill statement in July, 2005 (NT dollar)\n",
    "- BILL_AMT4: Amount of bill statement in June, 2005 (NT dollar)\n",
    "- BILL_AMT5: Amount of bill statement in May, 2005 (NT dollar)\n",
    "- BILL_AMT6: Amount of bill statement in April, 2005 (NT dollar)\n",
    "- PAY_AMT1: Amount of previous payment in September, 2005 (NT dollar)\n",
    "- PAY_AMT2: Amount of previous payment in August, 2005 (NT dollar)\n",
    "- PAY_AMT3: Amount of previous payment in July, 2005 (NT dollar)\n",
    "- PAY_AMT4: Amount of previous payment in June, 2005 (NT dollar)\n",
    "- PAY_AMT5: Amount of previous payment in May, 2005 (NT dollar)\n",
    "- PAY_AMT6: Amount of previous payment in April, 2005 (NT dollar)\n",
    "- default.payment.next.month: Default payment (1=yes, 0=no) [Target]\n"
   ]
  },
  {
   "cell_type": "code",
   "execution_count": null,
   "metadata": {
    "colab": {
     "base_uri": "https://localhost:8080/"
    },
    "executionInfo": {
     "elapsed": 18710,
     "status": "ok",
     "timestamp": 1623937866820,
     "user": {
      "displayName": "Sofia Marchesi",
      "photoUrl": "",
      "userId": "01949199438727912184"
     },
     "user_tz": 180
    },
    "id": "3IEcktGtAx9a",
    "outputId": "e6b024b7-9814-4142-8862-489f7253fc57"
   },
   "outputs": [
    {
     "name": "stdout",
     "output_type": "stream",
     "text": [
      "Collecting scikit-garden\n",
      "\u001b[?25l  Downloading https://files.pythonhosted.org/packages/63/0f/850592f6e8619d42086cdcc6a1731a4254f74db09878a155ab3d4cdc55ef/scikit-garden-0.1.3.tar.gz (317kB)\n",
      "\r",
      "\u001b[K     |█                               | 10kB 14.5MB/s eta 0:00:01\r",
      "\u001b[K     |██                              | 20kB 17.6MB/s eta 0:00:01\r",
      "\u001b[K     |███                             | 30kB 20.9MB/s eta 0:00:01\r",
      "\u001b[K     |████▏                           | 40kB 22.9MB/s eta 0:00:01\r",
      "\u001b[K     |█████▏                          | 51kB 24.7MB/s eta 0:00:01\r",
      "\u001b[K     |██████▏                         | 61kB 26.8MB/s eta 0:00:01\r",
      "\u001b[K     |███████▎                        | 71kB 21.8MB/s eta 0:00:01\r",
      "\u001b[K     |████████▎                       | 81kB 22.4MB/s eta 0:00:01\r",
      "\u001b[K     |█████████▎                      | 92kB 21.8MB/s eta 0:00:01\r",
      "\u001b[K     |██████████▎                     | 102kB 22.5MB/s eta 0:00:01\r",
      "\u001b[K     |███████████▍                    | 112kB 22.5MB/s eta 0:00:01\r",
      "\u001b[K     |████████████▍                   | 122kB 22.5MB/s eta 0:00:01\r",
      "\u001b[K     |█████████████▍                  | 133kB 22.5MB/s eta 0:00:01\r",
      "\u001b[K     |██████████████▌                 | 143kB 22.5MB/s eta 0:00:01\r",
      "\u001b[K     |███████████████▌                | 153kB 22.5MB/s eta 0:00:01\r",
      "\u001b[K     |████████████████▌               | 163kB 22.5MB/s eta 0:00:01\r",
      "\u001b[K     |█████████████████▋              | 174kB 22.5MB/s eta 0:00:01\r",
      "\u001b[K     |██████████████████▋             | 184kB 22.5MB/s eta 0:00:01\r",
      "\u001b[K     |███████████████████▋            | 194kB 22.5MB/s eta 0:00:01\r",
      "\u001b[K     |████████████████████▋           | 204kB 22.5MB/s eta 0:00:01\r",
      "\u001b[K     |█████████████████████▊          | 215kB 22.5MB/s eta 0:00:01\r",
      "\u001b[K     |██████████████████████▊         | 225kB 22.5MB/s eta 0:00:01\r",
      "\u001b[K     |███████████████████████▊        | 235kB 22.5MB/s eta 0:00:01\r",
      "\u001b[K     |████████████████████████▉       | 245kB 22.5MB/s eta 0:00:01\r",
      "\u001b[K     |█████████████████████████▉      | 256kB 22.5MB/s eta 0:00:01\r",
      "\u001b[K     |██████████████████████████▉     | 266kB 22.5MB/s eta 0:00:01\r",
      "\u001b[K     |████████████████████████████    | 276kB 22.5MB/s eta 0:00:01\r",
      "\u001b[K     |█████████████████████████████   | 286kB 22.5MB/s eta 0:00:01\r",
      "\u001b[K     |██████████████████████████████  | 296kB 22.5MB/s eta 0:00:01\r",
      "\u001b[K     |███████████████████████████████ | 307kB 22.5MB/s eta 0:00:01\r",
      "\u001b[K     |████████████████████████████████| 317kB 22.5MB/s \n",
      "\u001b[?25hRequirement already satisfied: numpy in /usr/local/lib/python3.7/dist-packages (from scikit-garden) (1.19.5)\n",
      "Requirement already satisfied: scipy in /usr/local/lib/python3.7/dist-packages (from scikit-garden) (1.4.1)\n",
      "Requirement already satisfied: scikit-learn>=0.18 in /usr/local/lib/python3.7/dist-packages (from scikit-garden) (0.22.2.post1)\n",
      "Requirement already satisfied: cython in /usr/local/lib/python3.7/dist-packages (from scikit-garden) (0.29.23)\n",
      "Requirement already satisfied: joblib>=0.11 in /usr/local/lib/python3.7/dist-packages (from scikit-learn>=0.18->scikit-garden) (1.0.1)\n",
      "Building wheels for collected packages: scikit-garden\n",
      "  Building wheel for scikit-garden (setup.py) ... \u001b[?25l\u001b[?25hdone\n",
      "  Created wheel for scikit-garden: filename=scikit_garden-0.1.3-cp37-cp37m-linux_x86_64.whl size=665056 sha256=9fdd9d8e721d9cb8710f316b436ac278708fded4fa679713d7ef6cab0b669ed0\n",
      "  Stored in directory: /root/.cache/pip/wheels/d0/ef/71/3a032ba9a2b70690c9f9ec2e383afee6610f509af312ff2cf3\n",
      "Successfully built scikit-garden\n",
      "Installing collected packages: scikit-garden\n",
      "Successfully installed scikit-garden-0.1.3\n"
     ]
    }
   ],
   "source": [
    "pip install scikit-garden"
   ]
  },
  {
   "cell_type": "code",
   "execution_count": null,
   "metadata": {
    "colab": {
     "base_uri": "https://localhost:8080/"
    },
    "executionInfo": {
     "elapsed": 3705,
     "status": "ok",
     "timestamp": 1623937870517,
     "user": {
      "displayName": "Sofia Marchesi",
      "photoUrl": "",
      "userId": "01949199438727912184"
     },
     "user_tz": 180
    },
    "id": "xff14PUCALbk",
    "outputId": "aec2e5a8-4015-44f6-f738-e04067164dc0"
   },
   "outputs": [
    {
     "name": "stdout",
     "output_type": "stream",
     "text": [
      "Collecting scikit-optimize\n",
      "\u001b[?25l  Downloading https://files.pythonhosted.org/packages/8b/03/be33e89f55866065a02e515c5b319304a801a9f1027a9b311a9b1d1f8dc7/scikit_optimize-0.8.1-py2.py3-none-any.whl (101kB)\n",
      "\r",
      "\u001b[K     |███▎                            | 10kB 12.4MB/s eta 0:00:01\r",
      "\u001b[K     |██████▌                         | 20kB 16.4MB/s eta 0:00:01\r",
      "\u001b[K     |█████████▊                      | 30kB 19.9MB/s eta 0:00:01\r",
      "\u001b[K     |█████████████                   | 40kB 23.4MB/s eta 0:00:01\r",
      "\u001b[K     |████████████████▏               | 51kB 25.4MB/s eta 0:00:01\r",
      "\u001b[K     |███████████████████▍            | 61kB 27.8MB/s eta 0:00:01\r",
      "\u001b[K     |██████████████████████▊         | 71kB 28.7MB/s eta 0:00:01\r",
      "\u001b[K     |██████████████████████████      | 81kB 28.6MB/s eta 0:00:01\r",
      "\u001b[K     |█████████████████████████████▏  | 92kB 27.7MB/s eta 0:00:01\r",
      "\u001b[K     |████████████████████████████████| 102kB 8.3MB/s \n",
      "\u001b[?25hRequirement already satisfied: numpy>=1.13.3 in /usr/local/lib/python3.7/dist-packages (from scikit-optimize) (1.19.5)\n",
      "Requirement already satisfied: scipy>=0.19.1 in /usr/local/lib/python3.7/dist-packages (from scikit-optimize) (1.4.1)\n",
      "Collecting pyaml>=16.9\n",
      "  Downloading https://files.pythonhosted.org/packages/15/c4/1310a054d33abc318426a956e7d6df0df76a6ddfa9c66f6310274fb75d42/pyaml-20.4.0-py2.py3-none-any.whl\n",
      "Requirement already satisfied: joblib>=0.11 in /usr/local/lib/python3.7/dist-packages (from scikit-optimize) (1.0.1)\n",
      "Requirement already satisfied: scikit-learn>=0.20.0 in /usr/local/lib/python3.7/dist-packages (from scikit-optimize) (0.22.2.post1)\n",
      "Requirement already satisfied: PyYAML in /usr/local/lib/python3.7/dist-packages (from pyaml>=16.9->scikit-optimize) (3.13)\n",
      "Installing collected packages: pyaml, scikit-optimize\n",
      "Successfully installed pyaml-20.4.0 scikit-optimize-0.8.1\n"
     ]
    }
   ],
   "source": [
    "pip install scikit-optimize"
   ]
  },
  {
   "cell_type": "code",
   "execution_count": null,
   "metadata": {
    "colab": {
     "base_uri": "https://localhost:8080/"
    },
    "executionInfo": {
     "elapsed": 24285,
     "status": "ok",
     "timestamp": 1623937894791,
     "user": {
      "displayName": "Sofia Marchesi",
      "photoUrl": "",
      "userId": "01949199438727912184"
     },
     "user_tz": 180
    },
    "id": "sBqtjlc_Xyep",
    "outputId": "629e4866-d319-4b42-9f5b-d6a08e3e3a2a"
   },
   "outputs": [
    {
     "name": "stdout",
     "output_type": "stream",
     "text": [
      "Mounted at /content/drive\n"
     ]
    }
   ],
   "source": [
    "import pandas as pd\n",
    "#df = pd.read_excel('default of credit card clients.xls',header=1)\n",
    "from google.colab import drive\n",
    "\n",
    "\n",
    "\n",
    "drive.mount('/content/drive',force_remount=True)\n",
    "df = pd.read_excel('/content/drive/My Drive/Colab Notebooks/Datasets/default of credit card clients.xls',header=1)"
   ]
  },
  {
   "cell_type": "markdown",
   "metadata": {
    "id": "D0Zw5wrArY1p"
   },
   "source": [
    "# 1.  Library"
   ]
  },
  {
   "cell_type": "code",
   "execution_count": null,
   "metadata": {
    "colab": {
     "base_uri": "https://localhost:8080/"
    },
    "executionInfo": {
     "elapsed": 3843,
     "status": "ok",
     "timestamp": 1623937904807,
     "user": {
      "displayName": "Sofia Marchesi",
      "photoUrl": "",
      "userId": "01949199438727912184"
     },
     "user_tz": 180
    },
    "id": "WUBLncF4ra-G",
    "outputId": "010aa476-8d91-4afb-faac-5cb7bb1e0506"
   },
   "outputs": [
    {
     "name": "stderr",
     "output_type": "stream",
     "text": [
      "/usr/local/lib/python3.7/dist-packages/sklearn/externals/six.py:31: FutureWarning: The module is deprecated in version 0.21 and will be removed in version 0.23 since we've dropped support for Python 2.7. Please rely on the official version of six (https://pypi.org/project/six/).\n",
      "  \"(https://pypi.org/project/six/).\", FutureWarning)\n",
      "/usr/local/lib/python3.7/dist-packages/sklearn/utils/deprecation.py:144: FutureWarning: The sklearn.neighbors.base module is  deprecated in version 0.22 and will be removed in version 0.24. The corresponding classes / functions should instead be imported from sklearn.neighbors. Anything that cannot be imported from sklearn.neighbors is now part of the private API.\n",
      "  warnings.warn(message, FutureWarning)\n"
     ]
    }
   ],
   "source": [
    "from sklearn.model_selection import train_test_split,cross_val_score,GridSearchCV\n",
    "from sklearn.preprocessing import StandardScaler\n",
    "\n",
    "import numpy as np\n",
    "import seaborn as sns\n",
    "import matplotlib.pyplot as plt\n",
    "\n",
    "from sklearn.metrics import confusion_matrix,classification_report,roc_auc_score,roc_curve\n",
    "from sklearn.ensemble import RandomForestClassifier\n",
    "from sklearn.linear_model import LogisticRegression,RidgeClassifier,SGDClassifier\n",
    "from sklearn.tree import DecisionTreeClassifier\n",
    "from imblearn.under_sampling import RandomUnderSampler\n",
    "from skopt import BayesSearchCV\n",
    "from xgboost import XGBClassifier\n",
    "import xgboost as xbg"
   ]
  },
  {
   "cell_type": "markdown",
   "metadata": {
    "id": "3pvFwe1luYbq"
   },
   "source": [
    "# 2.  Data Modeling"
   ]
  },
  {
   "cell_type": "code",
   "execution_count": null,
   "metadata": {
    "colab": {
     "base_uri": "https://localhost:8080/",
     "height": 274
    },
    "executionInfo": {
     "elapsed": 291,
     "status": "ok",
     "timestamp": 1623937908055,
     "user": {
      "displayName": "Sofia Marchesi",
      "photoUrl": "",
      "userId": "01949199438727912184"
     },
     "user_tz": 180
    },
    "id": "xhIHVw7PZTUP",
    "outputId": "0b2574e3-b3ec-4df5-e97f-5bb899498b54"
   },
   "outputs": [
    {
     "data": {
      "text/html": [
       "<div>\n",
       "<style scoped>\n",
       "    .dataframe tbody tr th:only-of-type {\n",
       "        vertical-align: middle;\n",
       "    }\n",
       "\n",
       "    .dataframe tbody tr th {\n",
       "        vertical-align: top;\n",
       "    }\n",
       "\n",
       "    .dataframe thead th {\n",
       "        text-align: right;\n",
       "    }\n",
       "</style>\n",
       "<table border=\"1\" class=\"dataframe\">\n",
       "  <thead>\n",
       "    <tr style=\"text-align: right;\">\n",
       "      <th></th>\n",
       "      <th>ID</th>\n",
       "      <th>LIMIT_BAL</th>\n",
       "      <th>SEX</th>\n",
       "      <th>EDUCATION</th>\n",
       "      <th>MARRIAGE</th>\n",
       "      <th>AGE</th>\n",
       "      <th>PAY_0</th>\n",
       "      <th>PAY_2</th>\n",
       "      <th>PAY_3</th>\n",
       "      <th>PAY_4</th>\n",
       "      <th>PAY_5</th>\n",
       "      <th>PAY_6</th>\n",
       "      <th>BILL_AMT1</th>\n",
       "      <th>BILL_AMT2</th>\n",
       "      <th>BILL_AMT3</th>\n",
       "      <th>BILL_AMT4</th>\n",
       "      <th>BILL_AMT5</th>\n",
       "      <th>BILL_AMT6</th>\n",
       "      <th>PAY_AMT1</th>\n",
       "      <th>PAY_AMT2</th>\n",
       "      <th>PAY_AMT3</th>\n",
       "      <th>PAY_AMT4</th>\n",
       "      <th>PAY_AMT5</th>\n",
       "      <th>PAY_AMT6</th>\n",
       "      <th>default payment next month</th>\n",
       "    </tr>\n",
       "  </thead>\n",
       "  <tbody>\n",
       "    <tr>\n",
       "      <th>0</th>\n",
       "      <td>1</td>\n",
       "      <td>20000</td>\n",
       "      <td>2</td>\n",
       "      <td>2</td>\n",
       "      <td>1</td>\n",
       "      <td>24</td>\n",
       "      <td>2</td>\n",
       "      <td>2</td>\n",
       "      <td>-1</td>\n",
       "      <td>-1</td>\n",
       "      <td>-2</td>\n",
       "      <td>-2</td>\n",
       "      <td>3913</td>\n",
       "      <td>3102</td>\n",
       "      <td>689</td>\n",
       "      <td>0</td>\n",
       "      <td>0</td>\n",
       "      <td>0</td>\n",
       "      <td>0</td>\n",
       "      <td>689</td>\n",
       "      <td>0</td>\n",
       "      <td>0</td>\n",
       "      <td>0</td>\n",
       "      <td>0</td>\n",
       "      <td>1</td>\n",
       "    </tr>\n",
       "    <tr>\n",
       "      <th>1</th>\n",
       "      <td>2</td>\n",
       "      <td>120000</td>\n",
       "      <td>2</td>\n",
       "      <td>2</td>\n",
       "      <td>2</td>\n",
       "      <td>26</td>\n",
       "      <td>-1</td>\n",
       "      <td>2</td>\n",
       "      <td>0</td>\n",
       "      <td>0</td>\n",
       "      <td>0</td>\n",
       "      <td>2</td>\n",
       "      <td>2682</td>\n",
       "      <td>1725</td>\n",
       "      <td>2682</td>\n",
       "      <td>3272</td>\n",
       "      <td>3455</td>\n",
       "      <td>3261</td>\n",
       "      <td>0</td>\n",
       "      <td>1000</td>\n",
       "      <td>1000</td>\n",
       "      <td>1000</td>\n",
       "      <td>0</td>\n",
       "      <td>2000</td>\n",
       "      <td>1</td>\n",
       "    </tr>\n",
       "    <tr>\n",
       "      <th>2</th>\n",
       "      <td>3</td>\n",
       "      <td>90000</td>\n",
       "      <td>2</td>\n",
       "      <td>2</td>\n",
       "      <td>2</td>\n",
       "      <td>34</td>\n",
       "      <td>0</td>\n",
       "      <td>0</td>\n",
       "      <td>0</td>\n",
       "      <td>0</td>\n",
       "      <td>0</td>\n",
       "      <td>0</td>\n",
       "      <td>29239</td>\n",
       "      <td>14027</td>\n",
       "      <td>13559</td>\n",
       "      <td>14331</td>\n",
       "      <td>14948</td>\n",
       "      <td>15549</td>\n",
       "      <td>1518</td>\n",
       "      <td>1500</td>\n",
       "      <td>1000</td>\n",
       "      <td>1000</td>\n",
       "      <td>1000</td>\n",
       "      <td>5000</td>\n",
       "      <td>0</td>\n",
       "    </tr>\n",
       "    <tr>\n",
       "      <th>3</th>\n",
       "      <td>4</td>\n",
       "      <td>50000</td>\n",
       "      <td>2</td>\n",
       "      <td>2</td>\n",
       "      <td>1</td>\n",
       "      <td>37</td>\n",
       "      <td>0</td>\n",
       "      <td>0</td>\n",
       "      <td>0</td>\n",
       "      <td>0</td>\n",
       "      <td>0</td>\n",
       "      <td>0</td>\n",
       "      <td>46990</td>\n",
       "      <td>48233</td>\n",
       "      <td>49291</td>\n",
       "      <td>28314</td>\n",
       "      <td>28959</td>\n",
       "      <td>29547</td>\n",
       "      <td>2000</td>\n",
       "      <td>2019</td>\n",
       "      <td>1200</td>\n",
       "      <td>1100</td>\n",
       "      <td>1069</td>\n",
       "      <td>1000</td>\n",
       "      <td>0</td>\n",
       "    </tr>\n",
       "    <tr>\n",
       "      <th>4</th>\n",
       "      <td>5</td>\n",
       "      <td>50000</td>\n",
       "      <td>1</td>\n",
       "      <td>2</td>\n",
       "      <td>1</td>\n",
       "      <td>57</td>\n",
       "      <td>-1</td>\n",
       "      <td>0</td>\n",
       "      <td>-1</td>\n",
       "      <td>0</td>\n",
       "      <td>0</td>\n",
       "      <td>0</td>\n",
       "      <td>8617</td>\n",
       "      <td>5670</td>\n",
       "      <td>35835</td>\n",
       "      <td>20940</td>\n",
       "      <td>19146</td>\n",
       "      <td>19131</td>\n",
       "      <td>2000</td>\n",
       "      <td>36681</td>\n",
       "      <td>10000</td>\n",
       "      <td>9000</td>\n",
       "      <td>689</td>\n",
       "      <td>679</td>\n",
       "      <td>0</td>\n",
       "    </tr>\n",
       "  </tbody>\n",
       "</table>\n",
       "</div>"
      ],
      "text/plain": [
       "   ID  LIMIT_BAL  SEX  ...  PAY_AMT5  PAY_AMT6  default payment next month\n",
       "0   1      20000    2  ...         0         0                           1\n",
       "1   2     120000    2  ...         0      2000                           1\n",
       "2   3      90000    2  ...      1000      5000                           0\n",
       "3   4      50000    2  ...      1069      1000                           0\n",
       "4   5      50000    1  ...       689       679                           0\n",
       "\n",
       "[5 rows x 25 columns]"
      ]
     },
     "execution_count": 5,
     "metadata": {
      "tags": []
     },
     "output_type": "execute_result"
    }
   ],
   "source": [
    "df.head()"
   ]
  },
  {
   "cell_type": "markdown",
   "metadata": {
    "id": "pfrzOsfjao8O"
   },
   "source": [
    "- Rename the target (\"default payment next month\") to a short name: \"default\"\n",
    "\n",
    "- To make it easier to understand, it changes: PAY_0,PAY_1,PAY_2,etc, for the months (april to september)"
   ]
  },
  {
   "cell_type": "code",
   "execution_count": null,
   "metadata": {
    "colab": {
     "base_uri": "https://localhost:8080/",
     "height": 224
    },
    "executionInfo": {
     "elapsed": 291,
     "status": "ok",
     "timestamp": 1623937909981,
     "user": {
      "displayName": "Sofia Marchesi",
      "photoUrl": "",
      "userId": "01949199438727912184"
     },
     "user_tz": 180
    },
    "id": "ToQ8ZUF_aukf",
    "outputId": "5fbce594-6d15-4890-be4e-f0ee7829429f"
   },
   "outputs": [
    {
     "data": {
      "text/html": [
       "<div>\n",
       "<style scoped>\n",
       "    .dataframe tbody tr th:only-of-type {\n",
       "        vertical-align: middle;\n",
       "    }\n",
       "\n",
       "    .dataframe tbody tr th {\n",
       "        vertical-align: top;\n",
       "    }\n",
       "\n",
       "    .dataframe thead th {\n",
       "        text-align: right;\n",
       "    }\n",
       "</style>\n",
       "<table border=\"1\" class=\"dataframe\">\n",
       "  <thead>\n",
       "    <tr style=\"text-align: right;\">\n",
       "      <th></th>\n",
       "      <th>ID</th>\n",
       "      <th>LIMIT_BAL</th>\n",
       "      <th>SEX</th>\n",
       "      <th>EDUCATION</th>\n",
       "      <th>MARRIAGE</th>\n",
       "      <th>AGE</th>\n",
       "      <th>PAY_APR</th>\n",
       "      <th>PAY_MAY</th>\n",
       "      <th>PAY_JUN</th>\n",
       "      <th>PAY_JUL</th>\n",
       "      <th>PAY_AUG</th>\n",
       "      <th>PAY_SEP</th>\n",
       "      <th>BILL_AMT1</th>\n",
       "      <th>BILL_AMT2</th>\n",
       "      <th>BILL_AMT3</th>\n",
       "      <th>BILL_AMT4</th>\n",
       "      <th>BILL_AMT5</th>\n",
       "      <th>BILL_AMT6</th>\n",
       "      <th>PAY_AMT1</th>\n",
       "      <th>PAY_AMT2</th>\n",
       "      <th>PAY_AMT3</th>\n",
       "      <th>PAY_AMT4</th>\n",
       "      <th>PAY_AMT5</th>\n",
       "      <th>PAY_AMT6</th>\n",
       "      <th>DEFAULT</th>\n",
       "    </tr>\n",
       "  </thead>\n",
       "  <tbody>\n",
       "    <tr>\n",
       "      <th>0</th>\n",
       "      <td>1</td>\n",
       "      <td>20000</td>\n",
       "      <td>2</td>\n",
       "      <td>2</td>\n",
       "      <td>1</td>\n",
       "      <td>24</td>\n",
       "      <td>2</td>\n",
       "      <td>2</td>\n",
       "      <td>-1</td>\n",
       "      <td>-1</td>\n",
       "      <td>-2</td>\n",
       "      <td>-2</td>\n",
       "      <td>3913</td>\n",
       "      <td>3102</td>\n",
       "      <td>689</td>\n",
       "      <td>0</td>\n",
       "      <td>0</td>\n",
       "      <td>0</td>\n",
       "      <td>0</td>\n",
       "      <td>689</td>\n",
       "      <td>0</td>\n",
       "      <td>0</td>\n",
       "      <td>0</td>\n",
       "      <td>0</td>\n",
       "      <td>1</td>\n",
       "    </tr>\n",
       "    <tr>\n",
       "      <th>1</th>\n",
       "      <td>2</td>\n",
       "      <td>120000</td>\n",
       "      <td>2</td>\n",
       "      <td>2</td>\n",
       "      <td>2</td>\n",
       "      <td>26</td>\n",
       "      <td>-1</td>\n",
       "      <td>2</td>\n",
       "      <td>0</td>\n",
       "      <td>0</td>\n",
       "      <td>0</td>\n",
       "      <td>2</td>\n",
       "      <td>2682</td>\n",
       "      <td>1725</td>\n",
       "      <td>2682</td>\n",
       "      <td>3272</td>\n",
       "      <td>3455</td>\n",
       "      <td>3261</td>\n",
       "      <td>0</td>\n",
       "      <td>1000</td>\n",
       "      <td>1000</td>\n",
       "      <td>1000</td>\n",
       "      <td>0</td>\n",
       "      <td>2000</td>\n",
       "      <td>1</td>\n",
       "    </tr>\n",
       "    <tr>\n",
       "      <th>2</th>\n",
       "      <td>3</td>\n",
       "      <td>90000</td>\n",
       "      <td>2</td>\n",
       "      <td>2</td>\n",
       "      <td>2</td>\n",
       "      <td>34</td>\n",
       "      <td>0</td>\n",
       "      <td>0</td>\n",
       "      <td>0</td>\n",
       "      <td>0</td>\n",
       "      <td>0</td>\n",
       "      <td>0</td>\n",
       "      <td>29239</td>\n",
       "      <td>14027</td>\n",
       "      <td>13559</td>\n",
       "      <td>14331</td>\n",
       "      <td>14948</td>\n",
       "      <td>15549</td>\n",
       "      <td>1518</td>\n",
       "      <td>1500</td>\n",
       "      <td>1000</td>\n",
       "      <td>1000</td>\n",
       "      <td>1000</td>\n",
       "      <td>5000</td>\n",
       "      <td>0</td>\n",
       "    </tr>\n",
       "    <tr>\n",
       "      <th>3</th>\n",
       "      <td>4</td>\n",
       "      <td>50000</td>\n",
       "      <td>2</td>\n",
       "      <td>2</td>\n",
       "      <td>1</td>\n",
       "      <td>37</td>\n",
       "      <td>0</td>\n",
       "      <td>0</td>\n",
       "      <td>0</td>\n",
       "      <td>0</td>\n",
       "      <td>0</td>\n",
       "      <td>0</td>\n",
       "      <td>46990</td>\n",
       "      <td>48233</td>\n",
       "      <td>49291</td>\n",
       "      <td>28314</td>\n",
       "      <td>28959</td>\n",
       "      <td>29547</td>\n",
       "      <td>2000</td>\n",
       "      <td>2019</td>\n",
       "      <td>1200</td>\n",
       "      <td>1100</td>\n",
       "      <td>1069</td>\n",
       "      <td>1000</td>\n",
       "      <td>0</td>\n",
       "    </tr>\n",
       "    <tr>\n",
       "      <th>4</th>\n",
       "      <td>5</td>\n",
       "      <td>50000</td>\n",
       "      <td>1</td>\n",
       "      <td>2</td>\n",
       "      <td>1</td>\n",
       "      <td>57</td>\n",
       "      <td>-1</td>\n",
       "      <td>0</td>\n",
       "      <td>-1</td>\n",
       "      <td>0</td>\n",
       "      <td>0</td>\n",
       "      <td>0</td>\n",
       "      <td>8617</td>\n",
       "      <td>5670</td>\n",
       "      <td>35835</td>\n",
       "      <td>20940</td>\n",
       "      <td>19146</td>\n",
       "      <td>19131</td>\n",
       "      <td>2000</td>\n",
       "      <td>36681</td>\n",
       "      <td>10000</td>\n",
       "      <td>9000</td>\n",
       "      <td>689</td>\n",
       "      <td>679</td>\n",
       "      <td>0</td>\n",
       "    </tr>\n",
       "  </tbody>\n",
       "</table>\n",
       "</div>"
      ],
      "text/plain": [
       "   ID  LIMIT_BAL  SEX  EDUCATION  ...  PAY_AMT4  PAY_AMT5  PAY_AMT6  DEFAULT\n",
       "0   1      20000    2          2  ...         0         0         0        1\n",
       "1   2     120000    2          2  ...      1000         0      2000        1\n",
       "2   3      90000    2          2  ...      1000      1000      5000        0\n",
       "3   4      50000    2          2  ...      1100      1069      1000        0\n",
       "4   5      50000    1          2  ...      9000       689       679        0\n",
       "\n",
       "[5 rows x 25 columns]"
      ]
     },
     "execution_count": 6,
     "metadata": {
      "tags": []
     },
     "output_type": "execute_result"
    }
   ],
   "source": [
    "df= df.rename({'default payment next month':'DEFAULT',\n",
    "               'PAY_0':'PAY_APR',\n",
    "               'PAY_2':'PAY_MAY',\n",
    "               'PAY_3':'PAY_JUN',\n",
    "               'PAY_4':'PAY_JUL',\n",
    "               'PAY_5':'PAY_AUG',\n",
    "               'PAY_6':'PAY_SEP'}, axis=1)\n",
    "df.head()"
   ]
  },
  {
   "cell_type": "markdown",
   "metadata": {
    "id": "YtqAyjrX8TPW"
   },
   "source": [
    "- Change in nomenclature in the same way as \"PAY_X\" in order to facilitate understanding"
   ]
  },
  {
   "cell_type": "code",
   "execution_count": null,
   "metadata": {
    "colab": {
     "base_uri": "https://localhost:8080/",
     "height": 224
    },
    "executionInfo": {
     "elapsed": 402,
     "status": "ok",
     "timestamp": 1623937912078,
     "user": {
      "displayName": "Sofia Marchesi",
      "photoUrl": "",
      "userId": "01949199438727912184"
     },
     "user_tz": 180
    },
    "id": "lAAzB3uC14Q2",
    "outputId": "f8aa61b1-d3e3-4ed0-de37-6e57faf4f95a"
   },
   "outputs": [
    {
     "data": {
      "text/html": [
       "<div>\n",
       "<style scoped>\n",
       "    .dataframe tbody tr th:only-of-type {\n",
       "        vertical-align: middle;\n",
       "    }\n",
       "\n",
       "    .dataframe tbody tr th {\n",
       "        vertical-align: top;\n",
       "    }\n",
       "\n",
       "    .dataframe thead th {\n",
       "        text-align: right;\n",
       "    }\n",
       "</style>\n",
       "<table border=\"1\" class=\"dataframe\">\n",
       "  <thead>\n",
       "    <tr style=\"text-align: right;\">\n",
       "      <th></th>\n",
       "      <th>ID</th>\n",
       "      <th>LIMIT_BAL</th>\n",
       "      <th>SEX</th>\n",
       "      <th>EDUCATION</th>\n",
       "      <th>MARRIAGE</th>\n",
       "      <th>AGE</th>\n",
       "      <th>PAY_APR</th>\n",
       "      <th>PAY_MAY</th>\n",
       "      <th>PAY_JUN</th>\n",
       "      <th>PAY_JUL</th>\n",
       "      <th>PAY_AUG</th>\n",
       "      <th>PAY_SEP</th>\n",
       "      <th>BILL_APR</th>\n",
       "      <th>BILL_MAY</th>\n",
       "      <th>BILL_JUN</th>\n",
       "      <th>BILL_JUL</th>\n",
       "      <th>BILL_AUG</th>\n",
       "      <th>BILL_SEP</th>\n",
       "      <th>PAY_AMT1</th>\n",
       "      <th>PAY_AMT2</th>\n",
       "      <th>PAY_AMT3</th>\n",
       "      <th>PAY_AMT4</th>\n",
       "      <th>PAY_AMT5</th>\n",
       "      <th>PAY_AMT6</th>\n",
       "      <th>DEFAULT</th>\n",
       "    </tr>\n",
       "  </thead>\n",
       "  <tbody>\n",
       "    <tr>\n",
       "      <th>0</th>\n",
       "      <td>1</td>\n",
       "      <td>20000</td>\n",
       "      <td>2</td>\n",
       "      <td>2</td>\n",
       "      <td>1</td>\n",
       "      <td>24</td>\n",
       "      <td>2</td>\n",
       "      <td>2</td>\n",
       "      <td>-1</td>\n",
       "      <td>-1</td>\n",
       "      <td>-2</td>\n",
       "      <td>-2</td>\n",
       "      <td>3913</td>\n",
       "      <td>3102</td>\n",
       "      <td>689</td>\n",
       "      <td>0</td>\n",
       "      <td>0</td>\n",
       "      <td>0</td>\n",
       "      <td>0</td>\n",
       "      <td>689</td>\n",
       "      <td>0</td>\n",
       "      <td>0</td>\n",
       "      <td>0</td>\n",
       "      <td>0</td>\n",
       "      <td>1</td>\n",
       "    </tr>\n",
       "    <tr>\n",
       "      <th>1</th>\n",
       "      <td>2</td>\n",
       "      <td>120000</td>\n",
       "      <td>2</td>\n",
       "      <td>2</td>\n",
       "      <td>2</td>\n",
       "      <td>26</td>\n",
       "      <td>-1</td>\n",
       "      <td>2</td>\n",
       "      <td>0</td>\n",
       "      <td>0</td>\n",
       "      <td>0</td>\n",
       "      <td>2</td>\n",
       "      <td>2682</td>\n",
       "      <td>1725</td>\n",
       "      <td>2682</td>\n",
       "      <td>3272</td>\n",
       "      <td>3455</td>\n",
       "      <td>3261</td>\n",
       "      <td>0</td>\n",
       "      <td>1000</td>\n",
       "      <td>1000</td>\n",
       "      <td>1000</td>\n",
       "      <td>0</td>\n",
       "      <td>2000</td>\n",
       "      <td>1</td>\n",
       "    </tr>\n",
       "    <tr>\n",
       "      <th>2</th>\n",
       "      <td>3</td>\n",
       "      <td>90000</td>\n",
       "      <td>2</td>\n",
       "      <td>2</td>\n",
       "      <td>2</td>\n",
       "      <td>34</td>\n",
       "      <td>0</td>\n",
       "      <td>0</td>\n",
       "      <td>0</td>\n",
       "      <td>0</td>\n",
       "      <td>0</td>\n",
       "      <td>0</td>\n",
       "      <td>29239</td>\n",
       "      <td>14027</td>\n",
       "      <td>13559</td>\n",
       "      <td>14331</td>\n",
       "      <td>14948</td>\n",
       "      <td>15549</td>\n",
       "      <td>1518</td>\n",
       "      <td>1500</td>\n",
       "      <td>1000</td>\n",
       "      <td>1000</td>\n",
       "      <td>1000</td>\n",
       "      <td>5000</td>\n",
       "      <td>0</td>\n",
       "    </tr>\n",
       "    <tr>\n",
       "      <th>3</th>\n",
       "      <td>4</td>\n",
       "      <td>50000</td>\n",
       "      <td>2</td>\n",
       "      <td>2</td>\n",
       "      <td>1</td>\n",
       "      <td>37</td>\n",
       "      <td>0</td>\n",
       "      <td>0</td>\n",
       "      <td>0</td>\n",
       "      <td>0</td>\n",
       "      <td>0</td>\n",
       "      <td>0</td>\n",
       "      <td>46990</td>\n",
       "      <td>48233</td>\n",
       "      <td>49291</td>\n",
       "      <td>28314</td>\n",
       "      <td>28959</td>\n",
       "      <td>29547</td>\n",
       "      <td>2000</td>\n",
       "      <td>2019</td>\n",
       "      <td>1200</td>\n",
       "      <td>1100</td>\n",
       "      <td>1069</td>\n",
       "      <td>1000</td>\n",
       "      <td>0</td>\n",
       "    </tr>\n",
       "    <tr>\n",
       "      <th>4</th>\n",
       "      <td>5</td>\n",
       "      <td>50000</td>\n",
       "      <td>1</td>\n",
       "      <td>2</td>\n",
       "      <td>1</td>\n",
       "      <td>57</td>\n",
       "      <td>-1</td>\n",
       "      <td>0</td>\n",
       "      <td>-1</td>\n",
       "      <td>0</td>\n",
       "      <td>0</td>\n",
       "      <td>0</td>\n",
       "      <td>8617</td>\n",
       "      <td>5670</td>\n",
       "      <td>35835</td>\n",
       "      <td>20940</td>\n",
       "      <td>19146</td>\n",
       "      <td>19131</td>\n",
       "      <td>2000</td>\n",
       "      <td>36681</td>\n",
       "      <td>10000</td>\n",
       "      <td>9000</td>\n",
       "      <td>689</td>\n",
       "      <td>679</td>\n",
       "      <td>0</td>\n",
       "    </tr>\n",
       "  </tbody>\n",
       "</table>\n",
       "</div>"
      ],
      "text/plain": [
       "   ID  LIMIT_BAL  SEX  EDUCATION  ...  PAY_AMT4  PAY_AMT5  PAY_AMT6  DEFAULT\n",
       "0   1      20000    2          2  ...         0         0         0        1\n",
       "1   2     120000    2          2  ...      1000         0      2000        1\n",
       "2   3      90000    2          2  ...      1000      1000      5000        0\n",
       "3   4      50000    2          2  ...      1100      1069      1000        0\n",
       "4   5      50000    1          2  ...      9000       689       679        0\n",
       "\n",
       "[5 rows x 25 columns]"
      ]
     },
     "execution_count": 7,
     "metadata": {
      "tags": []
     },
     "output_type": "execute_result"
    }
   ],
   "source": [
    "df= df.rename({\n",
    "               'BILL_AMT1':'BILL_APR',\n",
    "               'BILL_AMT2':'BILL_MAY',\n",
    "               'BILL_AMT3':'BILL_JUN',\n",
    "               'BILL_AMT4':'BILL_JUL',\n",
    "               'BILL_AMT5':'BILL_AUG',\n",
    "               'BILL_AMT6':'BILL_SEP'}, axis=1)\n",
    "df.head()"
   ]
  },
  {
   "cell_type": "code",
   "execution_count": null,
   "metadata": {
    "colab": {
     "base_uri": "https://localhost:8080/",
     "height": 224
    },
    "executionInfo": {
     "elapsed": 8,
     "status": "ok",
     "timestamp": 1623937913226,
     "user": {
      "displayName": "Sofia Marchesi",
      "photoUrl": "",
      "userId": "01949199438727912184"
     },
     "user_tz": 180
    },
    "id": "LO_yQ8T46tGT",
    "outputId": "14c0835f-a01c-4796-e8a4-8d31f5c5bde5"
   },
   "outputs": [
    {
     "data": {
      "text/html": [
       "<div>\n",
       "<style scoped>\n",
       "    .dataframe tbody tr th:only-of-type {\n",
       "        vertical-align: middle;\n",
       "    }\n",
       "\n",
       "    .dataframe tbody tr th {\n",
       "        vertical-align: top;\n",
       "    }\n",
       "\n",
       "    .dataframe thead th {\n",
       "        text-align: right;\n",
       "    }\n",
       "</style>\n",
       "<table border=\"1\" class=\"dataframe\">\n",
       "  <thead>\n",
       "    <tr style=\"text-align: right;\">\n",
       "      <th></th>\n",
       "      <th>ID</th>\n",
       "      <th>LIMIT_BAL</th>\n",
       "      <th>SEX</th>\n",
       "      <th>EDUCATION</th>\n",
       "      <th>MARRIAGE</th>\n",
       "      <th>AGE</th>\n",
       "      <th>PAY_APR</th>\n",
       "      <th>PAY_MAY</th>\n",
       "      <th>PAY_JUN</th>\n",
       "      <th>PAY_JUL</th>\n",
       "      <th>PAY_AUG</th>\n",
       "      <th>PAY_SEP</th>\n",
       "      <th>BILL_APR</th>\n",
       "      <th>BILL_MAY</th>\n",
       "      <th>BILL_JUN</th>\n",
       "      <th>BILL_JUL</th>\n",
       "      <th>BILL_AUG</th>\n",
       "      <th>BILL_SEP</th>\n",
       "      <th>PAYAMT_SEP</th>\n",
       "      <th>PAYAMT_AUG</th>\n",
       "      <th>PAYAMT_JUL</th>\n",
       "      <th>PAYAMT_JUN</th>\n",
       "      <th>PAYAMT_MAY</th>\n",
       "      <th>PAYAMT_APR</th>\n",
       "      <th>DEFAULT</th>\n",
       "    </tr>\n",
       "  </thead>\n",
       "  <tbody>\n",
       "    <tr>\n",
       "      <th>0</th>\n",
       "      <td>1</td>\n",
       "      <td>20000</td>\n",
       "      <td>2</td>\n",
       "      <td>2</td>\n",
       "      <td>1</td>\n",
       "      <td>24</td>\n",
       "      <td>2</td>\n",
       "      <td>2</td>\n",
       "      <td>-1</td>\n",
       "      <td>-1</td>\n",
       "      <td>-2</td>\n",
       "      <td>-2</td>\n",
       "      <td>3913</td>\n",
       "      <td>3102</td>\n",
       "      <td>689</td>\n",
       "      <td>0</td>\n",
       "      <td>0</td>\n",
       "      <td>0</td>\n",
       "      <td>0</td>\n",
       "      <td>689</td>\n",
       "      <td>0</td>\n",
       "      <td>0</td>\n",
       "      <td>0</td>\n",
       "      <td>0</td>\n",
       "      <td>1</td>\n",
       "    </tr>\n",
       "    <tr>\n",
       "      <th>1</th>\n",
       "      <td>2</td>\n",
       "      <td>120000</td>\n",
       "      <td>2</td>\n",
       "      <td>2</td>\n",
       "      <td>2</td>\n",
       "      <td>26</td>\n",
       "      <td>-1</td>\n",
       "      <td>2</td>\n",
       "      <td>0</td>\n",
       "      <td>0</td>\n",
       "      <td>0</td>\n",
       "      <td>2</td>\n",
       "      <td>2682</td>\n",
       "      <td>1725</td>\n",
       "      <td>2682</td>\n",
       "      <td>3272</td>\n",
       "      <td>3455</td>\n",
       "      <td>3261</td>\n",
       "      <td>0</td>\n",
       "      <td>1000</td>\n",
       "      <td>1000</td>\n",
       "      <td>1000</td>\n",
       "      <td>0</td>\n",
       "      <td>2000</td>\n",
       "      <td>1</td>\n",
       "    </tr>\n",
       "    <tr>\n",
       "      <th>2</th>\n",
       "      <td>3</td>\n",
       "      <td>90000</td>\n",
       "      <td>2</td>\n",
       "      <td>2</td>\n",
       "      <td>2</td>\n",
       "      <td>34</td>\n",
       "      <td>0</td>\n",
       "      <td>0</td>\n",
       "      <td>0</td>\n",
       "      <td>0</td>\n",
       "      <td>0</td>\n",
       "      <td>0</td>\n",
       "      <td>29239</td>\n",
       "      <td>14027</td>\n",
       "      <td>13559</td>\n",
       "      <td>14331</td>\n",
       "      <td>14948</td>\n",
       "      <td>15549</td>\n",
       "      <td>1518</td>\n",
       "      <td>1500</td>\n",
       "      <td>1000</td>\n",
       "      <td>1000</td>\n",
       "      <td>1000</td>\n",
       "      <td>5000</td>\n",
       "      <td>0</td>\n",
       "    </tr>\n",
       "    <tr>\n",
       "      <th>3</th>\n",
       "      <td>4</td>\n",
       "      <td>50000</td>\n",
       "      <td>2</td>\n",
       "      <td>2</td>\n",
       "      <td>1</td>\n",
       "      <td>37</td>\n",
       "      <td>0</td>\n",
       "      <td>0</td>\n",
       "      <td>0</td>\n",
       "      <td>0</td>\n",
       "      <td>0</td>\n",
       "      <td>0</td>\n",
       "      <td>46990</td>\n",
       "      <td>48233</td>\n",
       "      <td>49291</td>\n",
       "      <td>28314</td>\n",
       "      <td>28959</td>\n",
       "      <td>29547</td>\n",
       "      <td>2000</td>\n",
       "      <td>2019</td>\n",
       "      <td>1200</td>\n",
       "      <td>1100</td>\n",
       "      <td>1069</td>\n",
       "      <td>1000</td>\n",
       "      <td>0</td>\n",
       "    </tr>\n",
       "    <tr>\n",
       "      <th>4</th>\n",
       "      <td>5</td>\n",
       "      <td>50000</td>\n",
       "      <td>1</td>\n",
       "      <td>2</td>\n",
       "      <td>1</td>\n",
       "      <td>57</td>\n",
       "      <td>-1</td>\n",
       "      <td>0</td>\n",
       "      <td>-1</td>\n",
       "      <td>0</td>\n",
       "      <td>0</td>\n",
       "      <td>0</td>\n",
       "      <td>8617</td>\n",
       "      <td>5670</td>\n",
       "      <td>35835</td>\n",
       "      <td>20940</td>\n",
       "      <td>19146</td>\n",
       "      <td>19131</td>\n",
       "      <td>2000</td>\n",
       "      <td>36681</td>\n",
       "      <td>10000</td>\n",
       "      <td>9000</td>\n",
       "      <td>689</td>\n",
       "      <td>679</td>\n",
       "      <td>0</td>\n",
       "    </tr>\n",
       "  </tbody>\n",
       "</table>\n",
       "</div>"
      ],
      "text/plain": [
       "   ID  LIMIT_BAL  SEX  EDUCATION  ...  PAYAMT_JUN  PAYAMT_MAY  PAYAMT_APR  DEFAULT\n",
       "0   1      20000    2          2  ...           0           0           0        1\n",
       "1   2     120000    2          2  ...        1000           0        2000        1\n",
       "2   3      90000    2          2  ...        1000        1000        5000        0\n",
       "3   4      50000    2          2  ...        1100        1069        1000        0\n",
       "4   5      50000    1          2  ...        9000         689         679        0\n",
       "\n",
       "[5 rows x 25 columns]"
      ]
     },
     "execution_count": 8,
     "metadata": {
      "tags": []
     },
     "output_type": "execute_result"
    }
   ],
   "source": [
    "df= df.rename({\n",
    "               'PAY_AMT6':'PAYAMT_APR',\n",
    "               'PAY_AMT5':'PAYAMT_MAY',\n",
    "               'PAY_AMT4':'PAYAMT_JUN',\n",
    "               'PAY_AMT3':'PAYAMT_JUL',\n",
    "               'PAY_AMT2':'PAYAMT_AUG',\n",
    "               'PAY_AMT1':'PAYAMT_SEP'\n",
    "               }, axis=1)\n",
    "df.head()"
   ]
  },
  {
   "cell_type": "code",
   "execution_count": null,
   "metadata": {
    "colab": {
     "base_uri": "https://localhost:8080/"
    },
    "executionInfo": {
     "elapsed": 9,
     "status": "ok",
     "timestamp": 1623937914987,
     "user": {
      "displayName": "Sofia Marchesi",
      "photoUrl": "",
      "userId": "01949199438727912184"
     },
     "user_tz": 180
    },
    "id": "zJJIlcKddDxC",
    "outputId": "a3f4321e-7d00-4256-f9cb-07aad3d5598e"
   },
   "outputs": [
    {
     "name": "stdout",
     "output_type": "stream",
     "text": [
      "2    18112\n",
      "1    11888\n",
      "Name: SEX, dtype: int64\n",
      "\n",
      "\n",
      "2    14030\n",
      "1    10585\n",
      "3     4917\n",
      "5      280\n",
      "4      123\n",
      "6       51\n",
      "0       14\n",
      "Name: EDUCATION, dtype: int64\n",
      "\n",
      "\n",
      "2    15964\n",
      "1    13659\n",
      "3      323\n",
      "0       54\n",
      "Name: MARRIAGE, dtype: int64\n",
      "\n",
      " Age unique\n"
     ]
    }
   ],
   "source": [
    "print(df['SEX'].value_counts())\n",
    "print('\\n')\n",
    "print(df['EDUCATION'].value_counts())\n",
    "print('\\n')\n",
    "print(df['MARRIAGE'].value_counts())\n",
    "print('\\n Age unique')\n"
   ]
  },
  {
   "cell_type": "markdown",
   "metadata": {
    "id": "andxzkuQ8y4H"
   },
   "source": [
    "Query the \"AGE\" values to see if there are any invalid age values"
   ]
  },
  {
   "cell_type": "code",
   "execution_count": null,
   "metadata": {
    "colab": {
     "base_uri": "https://localhost:8080/"
    },
    "executionInfo": {
     "elapsed": 11,
     "status": "ok",
     "timestamp": 1623937916973,
     "user": {
      "displayName": "Sofia Marchesi",
      "photoUrl": "",
      "userId": "01949199438727912184"
     },
     "user_tz": 180
    },
    "id": "xANP2vdj8qxs",
    "outputId": "c278dfa4-1eda-4db3-cf84-d37975d0bb01"
   },
   "outputs": [
    {
     "name": "stdout",
     "output_type": "stream",
     "text": [
      "[24 26 34 37 57 29 23 28 35 51 41 30 49 39 40 27 47 33 32 54 58 22 25 31\n",
      " 46 42 43 45 56 44 53 38 63 36 52 48 55 60 50 75 61 73 59 21 67 66 62 70\n",
      " 72 64 65 71 69 68 79 74]\n",
      "\n",
      "\n"
     ]
    }
   ],
   "source": [
    "print(df['AGE'].unique())\n",
    "print('\\n')"
   ]
  },
  {
   "cell_type": "markdown",
   "metadata": {
    "id": "xMkuBr5H9hfG"
   },
   "source": [
    "Changing 1 to 0; 2 to 1; 3 to 2 and put 0 for \"others\" and replace to 3."
   ]
  },
  {
   "cell_type": "code",
   "execution_count": null,
   "metadata": {
    "id": "dy2XCQZboWBX"
   },
   "outputs": [],
   "source": [
    "df['EDUCATION'] = df['EDUCATION'].replace({1:0,2:1,3:2,0:3})"
   ]
  },
  {
   "cell_type": "code",
   "execution_count": null,
   "metadata": {
    "colab": {
     "base_uri": "https://localhost:8080/"
    },
    "executionInfo": {
     "elapsed": 7,
     "status": "ok",
     "timestamp": 1623937919628,
     "user": {
      "displayName": "Sofia Marchesi",
      "photoUrl": "",
      "userId": "01949199438727912184"
     },
     "user_tz": 180
    },
    "id": "HoLHzSi-owlE",
    "outputId": "80e239be-f23f-4c1e-c4db-f9bcf3475e4b"
   },
   "outputs": [
    {
     "data": {
      "text/plain": [
       "1    14030\n",
       "0    10585\n",
       "2     4917\n",
       "5      280\n",
       "4      123\n",
       "6       51\n",
       "3       14\n",
       "Name: EDUCATION, dtype: int64"
      ]
     },
     "execution_count": 13,
     "metadata": {
      "tags": []
     },
     "output_type": "execute_result"
    }
   ],
   "source": [
    "df['EDUCATION'].value_counts()"
   ]
  },
  {
   "cell_type": "markdown",
   "metadata": {
    "id": "Ee-Bdn259-fW"
   },
   "source": [
    "Transforming numeric data into categorical data to avoid misleading predictions"
   ]
  },
  {
   "cell_type": "code",
   "execution_count": null,
   "metadata": {
    "id": "6U53kRi22xK8"
   },
   "outputs": [],
   "source": [
    "df['MARRIAGE'] = df['MARRIAGE'].replace({1:'M',2:'S',3:'D',0:'NA'})"
   ]
  },
  {
   "cell_type": "code",
   "execution_count": null,
   "metadata": {
    "colab": {
     "base_uri": "https://localhost:8080/"
    },
    "executionInfo": {
     "elapsed": 15,
     "status": "ok",
     "timestamp": 1623937921826,
     "user": {
      "displayName": "Sofia Marchesi",
      "photoUrl": "",
      "userId": "01949199438727912184"
     },
     "user_tz": 180
    },
    "id": "gCulBEXU3TyV",
    "outputId": "b1fea16d-1a4a-4c78-a75f-ad988eca1407"
   },
   "outputs": [
    {
     "data": {
      "text/plain": [
       "S     15964\n",
       "M     13659\n",
       "D       323\n",
       "NA       54\n",
       "Name: MARRIAGE, dtype: int64"
      ]
     },
     "execution_count": 15,
     "metadata": {
      "tags": []
     },
     "output_type": "execute_result"
    }
   ],
   "source": [
    "df['MARRIAGE'].value_counts()"
   ]
  },
  {
   "cell_type": "markdown",
   "metadata": {
    "id": "O9tFjp1g-Pa2"
   },
   "source": [
    "Transform 'SEX' into binaries"
   ]
  },
  {
   "cell_type": "code",
   "execution_count": null,
   "metadata": {
    "colab": {
     "base_uri": "https://localhost:8080/"
    },
    "executionInfo": {
     "elapsed": 484,
     "status": "ok",
     "timestamp": 1623937923855,
     "user": {
      "displayName": "Sofia Marchesi",
      "photoUrl": "",
      "userId": "01949199438727912184"
     },
     "user_tz": 180
    },
    "id": "68Zxmdj9uR0F",
    "outputId": "4447746b-c448-4278-f6ec-ed1da8c18c3c"
   },
   "outputs": [
    {
     "data": {
      "text/plain": [
       "2    18112\n",
       "1    11888\n",
       "Name: SEX, dtype: int64"
      ]
     },
     "execution_count": 16,
     "metadata": {
      "tags": []
     },
     "output_type": "execute_result"
    }
   ],
   "source": [
    "df['SEX'].value_counts()"
   ]
  },
  {
   "cell_type": "code",
   "execution_count": null,
   "metadata": {
    "id": "QKS8rji9ublM"
   },
   "outputs": [],
   "source": [
    "df['SEX'] = df['SEX'].replace({1:0,2:1})"
   ]
  },
  {
   "cell_type": "code",
   "execution_count": null,
   "metadata": {
    "colab": {
     "base_uri": "https://localhost:8080/"
    },
    "executionInfo": {
     "elapsed": 5,
     "status": "ok",
     "timestamp": 1623937926061,
     "user": {
      "displayName": "Sofia Marchesi",
      "photoUrl": "",
      "userId": "01949199438727912184"
     },
     "user_tz": 180
    },
    "id": "9bVJfJqbumT_",
    "outputId": "9c340e32-5f5f-4655-b664-bd1216540de7"
   },
   "outputs": [
    {
     "data": {
      "text/plain": [
       "1    18112\n",
       "0    11888\n",
       "Name: SEX, dtype: int64"
      ]
     },
     "execution_count": 18,
     "metadata": {
      "tags": []
     },
     "output_type": "execute_result"
    }
   ],
   "source": [
    "# 0 = male\n",
    "# 1 = female\n",
    "df['SEX'].value_counts()"
   ]
  },
  {
   "cell_type": "markdown",
   "metadata": {
    "id": "PfpcUIVubVMO"
   },
   "source": [
    "Check if have null (\"NaN\") values"
   ]
  },
  {
   "cell_type": "code",
   "execution_count": null,
   "metadata": {
    "colab": {
     "base_uri": "https://localhost:8080/"
    },
    "executionInfo": {
     "elapsed": 4,
     "status": "ok",
     "timestamp": 1623937927522,
     "user": {
      "displayName": "Sofia Marchesi",
      "photoUrl": "",
      "userId": "01949199438727912184"
     },
     "user_tz": 180
    },
    "id": "4Obi6EQ4bSOx",
    "outputId": "30d476ee-0c69-47cf-88d1-a1831f24284e"
   },
   "outputs": [
    {
     "data": {
      "text/plain": [
       "ID            0\n",
       "LIMIT_BAL     0\n",
       "SEX           0\n",
       "EDUCATION     0\n",
       "MARRIAGE      0\n",
       "AGE           0\n",
       "PAY_APR       0\n",
       "PAY_MAY       0\n",
       "PAY_JUN       0\n",
       "PAY_JUL       0\n",
       "PAY_AUG       0\n",
       "PAY_SEP       0\n",
       "BILL_APR      0\n",
       "BILL_MAY      0\n",
       "BILL_JUN      0\n",
       "BILL_JUL      0\n",
       "BILL_AUG      0\n",
       "BILL_SEP      0\n",
       "PAYAMT_SEP    0\n",
       "PAYAMT_AUG    0\n",
       "PAYAMT_JUL    0\n",
       "PAYAMT_JUN    0\n",
       "PAYAMT_MAY    0\n",
       "PAYAMT_APR    0\n",
       "DEFAULT       0\n",
       "dtype: int64"
      ]
     },
     "execution_count": 19,
     "metadata": {
      "tags": []
     },
     "output_type": "execute_result"
    }
   ],
   "source": [
    "df.isna().sum()"
   ]
  },
  {
   "cell_type": "code",
   "execution_count": null,
   "metadata": {
    "id": "AYfn5OpjeylR"
   },
   "outputs": [],
   "source": [
    "df1 = df.copy()"
   ]
  },
  {
   "cell_type": "code",
   "execution_count": null,
   "metadata": {
    "colab": {
     "base_uri": "https://localhost:8080/",
     "height": 224
    },
    "executionInfo": {
     "elapsed": 12,
     "status": "ok",
     "timestamp": 1623937934606,
     "user": {
      "displayName": "Sofia Marchesi",
      "photoUrl": "",
      "userId": "01949199438727912184"
     },
     "user_tz": 180
    },
    "id": "R6_6gr8dmFJ6",
    "outputId": "1f5a6e74-ef0e-4d1e-9752-bef98718cedb"
   },
   "outputs": [
    {
     "data": {
      "text/html": [
       "<div>\n",
       "<style scoped>\n",
       "    .dataframe tbody tr th:only-of-type {\n",
       "        vertical-align: middle;\n",
       "    }\n",
       "\n",
       "    .dataframe tbody tr th {\n",
       "        vertical-align: top;\n",
       "    }\n",
       "\n",
       "    .dataframe thead th {\n",
       "        text-align: right;\n",
       "    }\n",
       "</style>\n",
       "<table border=\"1\" class=\"dataframe\">\n",
       "  <thead>\n",
       "    <tr style=\"text-align: right;\">\n",
       "      <th></th>\n",
       "      <th>ID</th>\n",
       "      <th>LIMIT_BAL</th>\n",
       "      <th>SEX</th>\n",
       "      <th>EDUCATION</th>\n",
       "      <th>MARRIAGE</th>\n",
       "      <th>AGE</th>\n",
       "      <th>PAY_APR</th>\n",
       "      <th>PAY_MAY</th>\n",
       "      <th>PAY_JUN</th>\n",
       "      <th>PAY_JUL</th>\n",
       "      <th>PAY_AUG</th>\n",
       "      <th>PAY_SEP</th>\n",
       "      <th>BILL_APR</th>\n",
       "      <th>BILL_MAY</th>\n",
       "      <th>BILL_JUN</th>\n",
       "      <th>BILL_JUL</th>\n",
       "      <th>BILL_AUG</th>\n",
       "      <th>BILL_SEP</th>\n",
       "      <th>PAYAMT_SEP</th>\n",
       "      <th>PAYAMT_AUG</th>\n",
       "      <th>PAYAMT_JUL</th>\n",
       "      <th>PAYAMT_JUN</th>\n",
       "      <th>PAYAMT_MAY</th>\n",
       "      <th>PAYAMT_APR</th>\n",
       "      <th>DEFAULT</th>\n",
       "    </tr>\n",
       "  </thead>\n",
       "  <tbody>\n",
       "    <tr>\n",
       "      <th>0</th>\n",
       "      <td>1</td>\n",
       "      <td>20000</td>\n",
       "      <td>1</td>\n",
       "      <td>1</td>\n",
       "      <td>M</td>\n",
       "      <td>24</td>\n",
       "      <td>2</td>\n",
       "      <td>2</td>\n",
       "      <td>-1</td>\n",
       "      <td>-1</td>\n",
       "      <td>-2</td>\n",
       "      <td>-2</td>\n",
       "      <td>3913</td>\n",
       "      <td>3102</td>\n",
       "      <td>689</td>\n",
       "      <td>0</td>\n",
       "      <td>0</td>\n",
       "      <td>0</td>\n",
       "      <td>0</td>\n",
       "      <td>689</td>\n",
       "      <td>0</td>\n",
       "      <td>0</td>\n",
       "      <td>0</td>\n",
       "      <td>0</td>\n",
       "      <td>1</td>\n",
       "    </tr>\n",
       "    <tr>\n",
       "      <th>1</th>\n",
       "      <td>2</td>\n",
       "      <td>120000</td>\n",
       "      <td>1</td>\n",
       "      <td>1</td>\n",
       "      <td>S</td>\n",
       "      <td>26</td>\n",
       "      <td>-1</td>\n",
       "      <td>2</td>\n",
       "      <td>0</td>\n",
       "      <td>0</td>\n",
       "      <td>0</td>\n",
       "      <td>2</td>\n",
       "      <td>2682</td>\n",
       "      <td>1725</td>\n",
       "      <td>2682</td>\n",
       "      <td>3272</td>\n",
       "      <td>3455</td>\n",
       "      <td>3261</td>\n",
       "      <td>0</td>\n",
       "      <td>1000</td>\n",
       "      <td>1000</td>\n",
       "      <td>1000</td>\n",
       "      <td>0</td>\n",
       "      <td>2000</td>\n",
       "      <td>1</td>\n",
       "    </tr>\n",
       "    <tr>\n",
       "      <th>2</th>\n",
       "      <td>3</td>\n",
       "      <td>90000</td>\n",
       "      <td>1</td>\n",
       "      <td>1</td>\n",
       "      <td>S</td>\n",
       "      <td>34</td>\n",
       "      <td>0</td>\n",
       "      <td>0</td>\n",
       "      <td>0</td>\n",
       "      <td>0</td>\n",
       "      <td>0</td>\n",
       "      <td>0</td>\n",
       "      <td>29239</td>\n",
       "      <td>14027</td>\n",
       "      <td>13559</td>\n",
       "      <td>14331</td>\n",
       "      <td>14948</td>\n",
       "      <td>15549</td>\n",
       "      <td>1518</td>\n",
       "      <td>1500</td>\n",
       "      <td>1000</td>\n",
       "      <td>1000</td>\n",
       "      <td>1000</td>\n",
       "      <td>5000</td>\n",
       "      <td>0</td>\n",
       "    </tr>\n",
       "    <tr>\n",
       "      <th>3</th>\n",
       "      <td>4</td>\n",
       "      <td>50000</td>\n",
       "      <td>1</td>\n",
       "      <td>1</td>\n",
       "      <td>M</td>\n",
       "      <td>37</td>\n",
       "      <td>0</td>\n",
       "      <td>0</td>\n",
       "      <td>0</td>\n",
       "      <td>0</td>\n",
       "      <td>0</td>\n",
       "      <td>0</td>\n",
       "      <td>46990</td>\n",
       "      <td>48233</td>\n",
       "      <td>49291</td>\n",
       "      <td>28314</td>\n",
       "      <td>28959</td>\n",
       "      <td>29547</td>\n",
       "      <td>2000</td>\n",
       "      <td>2019</td>\n",
       "      <td>1200</td>\n",
       "      <td>1100</td>\n",
       "      <td>1069</td>\n",
       "      <td>1000</td>\n",
       "      <td>0</td>\n",
       "    </tr>\n",
       "    <tr>\n",
       "      <th>4</th>\n",
       "      <td>5</td>\n",
       "      <td>50000</td>\n",
       "      <td>0</td>\n",
       "      <td>1</td>\n",
       "      <td>M</td>\n",
       "      <td>57</td>\n",
       "      <td>-1</td>\n",
       "      <td>0</td>\n",
       "      <td>-1</td>\n",
       "      <td>0</td>\n",
       "      <td>0</td>\n",
       "      <td>0</td>\n",
       "      <td>8617</td>\n",
       "      <td>5670</td>\n",
       "      <td>35835</td>\n",
       "      <td>20940</td>\n",
       "      <td>19146</td>\n",
       "      <td>19131</td>\n",
       "      <td>2000</td>\n",
       "      <td>36681</td>\n",
       "      <td>10000</td>\n",
       "      <td>9000</td>\n",
       "      <td>689</td>\n",
       "      <td>679</td>\n",
       "      <td>0</td>\n",
       "    </tr>\n",
       "  </tbody>\n",
       "</table>\n",
       "</div>"
      ],
      "text/plain": [
       "   ID  LIMIT_BAL  SEX  EDUCATION  ... PAYAMT_JUN  PAYAMT_MAY  PAYAMT_APR  DEFAULT\n",
       "0   1      20000    1          1  ...          0           0           0        1\n",
       "1   2     120000    1          1  ...       1000           0        2000        1\n",
       "2   3      90000    1          1  ...       1000        1000        5000        0\n",
       "3   4      50000    1          1  ...       1100        1069        1000        0\n",
       "4   5      50000    0          1  ...       9000         689         679        0\n",
       "\n",
       "[5 rows x 25 columns]"
      ]
     },
     "execution_count": 21,
     "metadata": {
      "tags": []
     },
     "output_type": "execute_result"
    }
   ],
   "source": [
    "df1.head()"
   ]
  },
  {
   "cell_type": "code",
   "execution_count": null,
   "metadata": {
    "colab": {
     "base_uri": "https://localhost:8080/"
    },
    "executionInfo": {
     "elapsed": 7,
     "status": "ok",
     "timestamp": 1623937936397,
     "user": {
      "displayName": "Sofia Marchesi",
      "photoUrl": "",
      "userId": "01949199438727912184"
     },
     "user_tz": 180
    },
    "id": "LeIH3rpsmCF9",
    "outputId": "56c9c9cc-d2f6-410b-9880-ac476b6859f7"
   },
   "outputs": [
    {
     "name": "stdout",
     "output_type": "stream",
     "text": [
      "<class 'pandas.core.frame.DataFrame'>\n",
      "RangeIndex: 30000 entries, 0 to 29999\n",
      "Data columns (total 25 columns):\n",
      " #   Column      Non-Null Count  Dtype \n",
      "---  ------      --------------  ----- \n",
      " 0   ID          30000 non-null  int64 \n",
      " 1   LIMIT_BAL   30000 non-null  int64 \n",
      " 2   SEX         30000 non-null  int64 \n",
      " 3   EDUCATION   30000 non-null  int64 \n",
      " 4   MARRIAGE    30000 non-null  object\n",
      " 5   AGE         30000 non-null  int64 \n",
      " 6   PAY_APR     30000 non-null  int64 \n",
      " 7   PAY_MAY     30000 non-null  int64 \n",
      " 8   PAY_JUN     30000 non-null  int64 \n",
      " 9   PAY_JUL     30000 non-null  int64 \n",
      " 10  PAY_AUG     30000 non-null  int64 \n",
      " 11  PAY_SEP     30000 non-null  int64 \n",
      " 12  BILL_APR    30000 non-null  int64 \n",
      " 13  BILL_MAY    30000 non-null  int64 \n",
      " 14  BILL_JUN    30000 non-null  int64 \n",
      " 15  BILL_JUL    30000 non-null  int64 \n",
      " 16  BILL_AUG    30000 non-null  int64 \n",
      " 17  BILL_SEP    30000 non-null  int64 \n",
      " 18  PAYAMT_SEP  30000 non-null  int64 \n",
      " 19  PAYAMT_AUG  30000 non-null  int64 \n",
      " 20  PAYAMT_JUL  30000 non-null  int64 \n",
      " 21  PAYAMT_JUN  30000 non-null  int64 \n",
      " 22  PAYAMT_MAY  30000 non-null  int64 \n",
      " 23  PAYAMT_APR  30000 non-null  int64 \n",
      " 24  DEFAULT     30000 non-null  int64 \n",
      "dtypes: int64(24), object(1)\n",
      "memory usage: 5.7+ MB\n"
     ]
    }
   ],
   "source": [
    "df1.info()"
   ]
  },
  {
   "cell_type": "markdown",
   "metadata": {
    "id": "4CO9IOFc-yUa"
   },
   "source": [
    "# 3. Data Analysis"
   ]
  },
  {
   "cell_type": "markdown",
   "metadata": {
    "id": "X0LLqApF-k0v"
   },
   "source": [
    "The most influential features are whether the person has paid or not (PAY_APR, PAY_MAY, etc).If the person already comes from a history of delay payment for the first few months, the chance of default is greater."
   ]
  },
  {
   "cell_type": "code",
   "execution_count": null,
   "metadata": {
    "colab": {
     "base_uri": "https://localhost:8080/",
     "height": 1000
    },
    "executionInfo": {
     "elapsed": 879,
     "status": "ok",
     "timestamp": 1623938977302,
     "user": {
      "displayName": "Sofia Marchesi",
      "photoUrl": "",
      "userId": "01949199438727912184"
     },
     "user_tz": 180
    },
    "id": "pjagY2MgpvVU",
    "outputId": "9f2d755c-4f21-414a-f4de-dada6b2806c0"
   },
   "outputs": [
    {
     "data": {
      "text/plain": [
       "<matplotlib.axes._subplots.AxesSubplot at 0x7f26a2f9e510>"
      ]
     },
     "execution_count": 46,
     "metadata": {
      "tags": []
     },
     "output_type": "execute_result"
    },
    {
     "data": {
      "image/png": "[encoded data removed]",
      "text/plain": [
       "<Figure size 144x1440 with 1 Axes>"
      ]
     },
     "metadata": {
      "tags": []
     },
     "output_type": "display_data"
    }
   ],
   "source": [
    "coef = df1.drop('ID',axis=1).corr()\n",
    "\n",
    "f1, ax1 = plt.subplots(figsize=(2,20))\n",
    "\n",
    "coef_default = coef.iloc[:,-1]\n",
    "\n",
    "coef_features = list(abs(coef.iloc[:,-1]).sort_values(ascending=False).index)\n",
    "\n",
    "coef_default= pd.DataFrame(coef_default[coef_features])\n",
    "\n",
    "sns.heatmap(coef_default,annot=True,cmap='viridis', linewidths=0.15,cbar=False)"
   ]
  },
  {
   "cell_type": "code",
   "execution_count": null,
   "metadata": {
    "colab": {
     "base_uri": "https://localhost:8080/",
     "height": 224
    },
    "executionInfo": {
     "elapsed": 293,
     "status": "ok",
     "timestamp": 1623938980505,
     "user": {
      "displayName": "Sofia Marchesi",
      "photoUrl": "",
      "userId": "01949199438727912184"
     },
     "user_tz": 180
    },
    "id": "8gS65bt8rypn",
    "outputId": "47890a11-4427-49d9-f70f-5d1d43289428"
   },
   "outputs": [
    {
     "data": {
      "text/html": [
       "<div>\n",
       "<style scoped>\n",
       "    .dataframe tbody tr th:only-of-type {\n",
       "        vertical-align: middle;\n",
       "    }\n",
       "\n",
       "    .dataframe tbody tr th {\n",
       "        vertical-align: top;\n",
       "    }\n",
       "\n",
       "    .dataframe thead th {\n",
       "        text-align: right;\n",
       "    }\n",
       "</style>\n",
       "<table border=\"1\" class=\"dataframe\">\n",
       "  <thead>\n",
       "    <tr style=\"text-align: right;\">\n",
       "      <th></th>\n",
       "      <th>ID</th>\n",
       "      <th>LIMIT_BAL</th>\n",
       "      <th>SEX</th>\n",
       "      <th>EDUCATION</th>\n",
       "      <th>MARRIAGE</th>\n",
       "      <th>AGE</th>\n",
       "      <th>PAY_APR</th>\n",
       "      <th>PAY_MAY</th>\n",
       "      <th>PAY_JUN</th>\n",
       "      <th>PAY_JUL</th>\n",
       "      <th>PAY_AUG</th>\n",
       "      <th>PAY_SEP</th>\n",
       "      <th>BILL_APR</th>\n",
       "      <th>BILL_MAY</th>\n",
       "      <th>BILL_JUN</th>\n",
       "      <th>BILL_JUL</th>\n",
       "      <th>BILL_AUG</th>\n",
       "      <th>BILL_SEP</th>\n",
       "      <th>PAYAMT_SEP</th>\n",
       "      <th>PAYAMT_AUG</th>\n",
       "      <th>PAYAMT_JUL</th>\n",
       "      <th>PAYAMT_JUN</th>\n",
       "      <th>PAYAMT_MAY</th>\n",
       "      <th>PAYAMT_APR</th>\n",
       "      <th>DEFAULT</th>\n",
       "    </tr>\n",
       "  </thead>\n",
       "  <tbody>\n",
       "    <tr>\n",
       "      <th>0</th>\n",
       "      <td>1</td>\n",
       "      <td>20000</td>\n",
       "      <td>1</td>\n",
       "      <td>1</td>\n",
       "      <td>M</td>\n",
       "      <td>24</td>\n",
       "      <td>2</td>\n",
       "      <td>2</td>\n",
       "      <td>-1</td>\n",
       "      <td>-1</td>\n",
       "      <td>-2</td>\n",
       "      <td>-2</td>\n",
       "      <td>3913</td>\n",
       "      <td>3102</td>\n",
       "      <td>689</td>\n",
       "      <td>0</td>\n",
       "      <td>0</td>\n",
       "      <td>0</td>\n",
       "      <td>0</td>\n",
       "      <td>689</td>\n",
       "      <td>0</td>\n",
       "      <td>0</td>\n",
       "      <td>0</td>\n",
       "      <td>0</td>\n",
       "      <td>1</td>\n",
       "    </tr>\n",
       "    <tr>\n",
       "      <th>1</th>\n",
       "      <td>2</td>\n",
       "      <td>120000</td>\n",
       "      <td>1</td>\n",
       "      <td>1</td>\n",
       "      <td>S</td>\n",
       "      <td>26</td>\n",
       "      <td>-1</td>\n",
       "      <td>2</td>\n",
       "      <td>0</td>\n",
       "      <td>0</td>\n",
       "      <td>0</td>\n",
       "      <td>2</td>\n",
       "      <td>2682</td>\n",
       "      <td>1725</td>\n",
       "      <td>2682</td>\n",
       "      <td>3272</td>\n",
       "      <td>3455</td>\n",
       "      <td>3261</td>\n",
       "      <td>0</td>\n",
       "      <td>1000</td>\n",
       "      <td>1000</td>\n",
       "      <td>1000</td>\n",
       "      <td>0</td>\n",
       "      <td>2000</td>\n",
       "      <td>1</td>\n",
       "    </tr>\n",
       "    <tr>\n",
       "      <th>2</th>\n",
       "      <td>3</td>\n",
       "      <td>90000</td>\n",
       "      <td>1</td>\n",
       "      <td>1</td>\n",
       "      <td>S</td>\n",
       "      <td>34</td>\n",
       "      <td>0</td>\n",
       "      <td>0</td>\n",
       "      <td>0</td>\n",
       "      <td>0</td>\n",
       "      <td>0</td>\n",
       "      <td>0</td>\n",
       "      <td>29239</td>\n",
       "      <td>14027</td>\n",
       "      <td>13559</td>\n",
       "      <td>14331</td>\n",
       "      <td>14948</td>\n",
       "      <td>15549</td>\n",
       "      <td>1518</td>\n",
       "      <td>1500</td>\n",
       "      <td>1000</td>\n",
       "      <td>1000</td>\n",
       "      <td>1000</td>\n",
       "      <td>5000</td>\n",
       "      <td>0</td>\n",
       "    </tr>\n",
       "    <tr>\n",
       "      <th>3</th>\n",
       "      <td>4</td>\n",
       "      <td>50000</td>\n",
       "      <td>1</td>\n",
       "      <td>1</td>\n",
       "      <td>M</td>\n",
       "      <td>37</td>\n",
       "      <td>0</td>\n",
       "      <td>0</td>\n",
       "      <td>0</td>\n",
       "      <td>0</td>\n",
       "      <td>0</td>\n",
       "      <td>0</td>\n",
       "      <td>46990</td>\n",
       "      <td>48233</td>\n",
       "      <td>49291</td>\n",
       "      <td>28314</td>\n",
       "      <td>28959</td>\n",
       "      <td>29547</td>\n",
       "      <td>2000</td>\n",
       "      <td>2019</td>\n",
       "      <td>1200</td>\n",
       "      <td>1100</td>\n",
       "      <td>1069</td>\n",
       "      <td>1000</td>\n",
       "      <td>0</td>\n",
       "    </tr>\n",
       "    <tr>\n",
       "      <th>4</th>\n",
       "      <td>5</td>\n",
       "      <td>50000</td>\n",
       "      <td>0</td>\n",
       "      <td>1</td>\n",
       "      <td>M</td>\n",
       "      <td>57</td>\n",
       "      <td>-1</td>\n",
       "      <td>0</td>\n",
       "      <td>-1</td>\n",
       "      <td>0</td>\n",
       "      <td>0</td>\n",
       "      <td>0</td>\n",
       "      <td>8617</td>\n",
       "      <td>5670</td>\n",
       "      <td>35835</td>\n",
       "      <td>20940</td>\n",
       "      <td>19146</td>\n",
       "      <td>19131</td>\n",
       "      <td>2000</td>\n",
       "      <td>36681</td>\n",
       "      <td>10000</td>\n",
       "      <td>9000</td>\n",
       "      <td>689</td>\n",
       "      <td>679</td>\n",
       "      <td>0</td>\n",
       "    </tr>\n",
       "  </tbody>\n",
       "</table>\n",
       "</div>"
      ],
      "text/plain": [
       "   ID  LIMIT_BAL  SEX  EDUCATION  ... PAYAMT_JUN  PAYAMT_MAY  PAYAMT_APR  DEFAULT\n",
       "0   1      20000    1          1  ...          0           0           0        1\n",
       "1   2     120000    1          1  ...       1000           0        2000        1\n",
       "2   3      90000    1          1  ...       1000        1000        5000        0\n",
       "3   4      50000    1          1  ...       1100        1069        1000        0\n",
       "4   5      50000    0          1  ...       9000         689         679        0\n",
       "\n",
       "[5 rows x 25 columns]"
      ]
     },
     "execution_count": 47,
     "metadata": {
      "tags": []
     },
     "output_type": "execute_result"
    }
   ],
   "source": [
    "df1.head()"
   ]
  },
  {
   "cell_type": "markdown",
   "metadata": {
    "id": "XWbEELXY-2o4"
   },
   "source": [
    "In this graph can see a value well above the average for \"LIMIT_BAL\" in \"SEX\" = 1 (female). This value can distort the prediction and, therefore, will be removed."
   ]
  },
  {
   "cell_type": "code",
   "execution_count": null,
   "metadata": {
    "colab": {
     "base_uri": "https://localhost:8080/",
     "height": 401
    },
    "executionInfo": {
     "elapsed": 1110,
     "status": "ok",
     "timestamp": 1623938992716,
     "user": {
      "displayName": "Sofia Marchesi",
      "photoUrl": "",
      "userId": "01949199438727912184"
     },
     "user_tz": 180
    },
    "id": "b-HBtoBcl4fN",
    "outputId": "2dd283cc-6891-4560-c6cf-dcb4723615fe"
   },
   "outputs": [
    {
     "data": {
      "text/plain": [
       "<seaborn.axisgrid.FacetGrid at 0x7f26a2f4afd0>"
      ]
     },
     "execution_count": 48,
     "metadata": {
      "tags": []
     },
     "output_type": "execute_result"
    },
    {
     "data": {
      "image/png": "[encoded data removed]",
      "text/plain": [
       "<Figure size 360x360 with 1 Axes>"
      ]
     },
     "metadata": {
      "tags": []
     },
     "output_type": "display_data"
    }
   ],
   "source": [
    "sns.catplot(x='SEX',y = 'LIMIT_BAL',data=df1)"
   ]
  },
  {
   "cell_type": "code",
   "execution_count": null,
   "metadata": {
    "colab": {
     "base_uri": "https://localhost:8080/"
    },
    "executionInfo": {
     "elapsed": 302,
     "status": "ok",
     "timestamp": 1623938083740,
     "user": {
      "displayName": "Sofia Marchesi",
      "photoUrl": "",
      "userId": "01949199438727912184"
     },
     "user_tz": 180
    },
    "id": "7fQZrd8Alvss",
    "outputId": "704bda3b-d2ba-4f05-87d6-6c9c06e0e6f2"
   },
   "outputs": [
    {
     "data": {
      "text/plain": [
       "1000000"
      ]
     },
     "execution_count": 28,
     "metadata": {
      "tags": []
     },
     "output_type": "execute_result"
    }
   ],
   "source": [
    "#Maximum of 100000 - outlier\n",
    "df1[df1['SEX']==1]['LIMIT_BAL'].max()"
   ]
  },
  {
   "cell_type": "code",
   "execution_count": null,
   "metadata": {
    "id": "fT4-JuxzmxuK"
   },
   "outputs": [],
   "source": [
    "df1 = df1.drop(labels=df1[df1['LIMIT_BAL']==1000000].index)"
   ]
  },
  {
   "cell_type": "code",
   "execution_count": null,
   "metadata": {
    "colab": {
     "base_uri": "https://localhost:8080/",
     "height": 401
    },
    "executionInfo": {
     "elapsed": 1206,
     "status": "ok",
     "timestamp": 1623938086676,
     "user": {
      "displayName": "Sofia Marchesi",
      "photoUrl": "",
      "userId": "01949199438727912184"
     },
     "user_tz": 180
    },
    "id": "vcatWcWBnyKr",
    "outputId": "ff78bf9c-92c8-480b-8550-3f544a9c9373"
   },
   "outputs": [
    {
     "data": {
      "text/plain": [
       "<seaborn.axisgrid.FacetGrid at 0x7f26a60a3dd0>"
      ]
     },
     "execution_count": 30,
     "metadata": {
      "tags": []
     },
     "output_type": "execute_result"
    },
    {
     "data": {
      "image/png": "[encoded data removed]",
      "text/plain": [
       "<Figure size 360x360 with 1 Axes>"
      ]
     },
     "metadata": {
      "tags": []
     },
     "output_type": "display_data"
    }
   ],
   "source": [
    "sns.catplot(x='SEX',y = 'LIMIT_BAL',data=df1)"
   ]
  },
  {
   "cell_type": "markdown",
   "metadata": {
    "id": "wH9xHw2mMwko"
   },
   "source": [
    "The limit given to women is slightly higher than that of men"
   ]
  },
  {
   "cell_type": "code",
   "execution_count": null,
   "metadata": {
    "colab": {
     "base_uri": "https://localhost:8080/",
     "height": 401
    },
    "executionInfo": {
     "elapsed": 661,
     "status": "ok",
     "timestamp": 1623938089247,
     "user": {
      "displayName": "Sofia Marchesi",
      "photoUrl": "",
      "userId": "01949199438727912184"
     },
     "user_tz": 180
    },
    "id": "Ud6KzIxh-xy1",
    "outputId": "392da961-7461-4d70-d260-6ddc5816c193"
   },
   "outputs": [
    {
     "data": {
      "text/plain": [
       "<seaborn.axisgrid.FacetGrid at 0x7f26a4bac710>"
      ]
     },
     "execution_count": 31,
     "metadata": {
      "tags": []
     },
     "output_type": "execute_result"
    },
    {
     "data": {
      "image/png": "[encoded data removed]",
      "text/plain": [
       "<Figure size 360x360 with 1 Axes>"
      ]
     },
     "metadata": {
      "tags": []
     },
     "output_type": "display_data"
    }
   ],
   "source": [
    "sns.catplot(x='SEX',y = 'LIMIT_BAL',data=df1, kind='box')"
   ]
  },
  {
   "cell_type": "markdown",
   "metadata": {
    "id": "LI_2bhEwNP-v"
   },
   "source": [
    "As see in this graph, people with a lower limit are more likely not to pay"
   ]
  },
  {
   "cell_type": "code",
   "execution_count": null,
   "metadata": {
    "colab": {
     "base_uri": "https://localhost:8080/",
     "height": 401
    },
    "executionInfo": {
     "elapsed": 1171,
     "status": "ok",
     "timestamp": 1623938093889,
     "user": {
      "displayName": "Sofia Marchesi",
      "photoUrl": "",
      "userId": "01949199438727912184"
     },
     "user_tz": 180
    },
    "id": "H1lANqMopktH",
    "outputId": "26eca371-5d40-4ec6-a5f0-b51e89d2436a"
   },
   "outputs": [
    {
     "data": {
      "text/plain": [
       "<seaborn.axisgrid.FacetGrid at 0x7f26a4d32e50>"
      ]
     },
     "execution_count": 32,
     "metadata": {
      "tags": []
     },
     "output_type": "execute_result"
    },
    {
     "data": {
      "image/png": "[encoded data removed]",
      "text/plain": [
       "<Figure size 360x360 with 1 Axes>"
      ]
     },
     "metadata": {
      "tags": []
     },
     "output_type": "display_data"
    }
   ],
   "source": [
    "sns.catplot(y='LIMIT_BAL',x='DEFAULT',data=df1)"
   ]
  },
  {
   "cell_type": "markdown",
   "metadata": {
    "id": "rt7fRZ9H_Zz_"
   },
   "source": [
    "When the limit is lower, default is higher. That is, the person has less money or is already due to other defaults, therefore, they have a lower limit."
   ]
  },
  {
   "cell_type": "code",
   "execution_count": null,
   "metadata": {
    "colab": {
     "base_uri": "https://localhost:8080/",
     "height": 401
    },
    "executionInfo": {
     "elapsed": 967,
     "status": "ok",
     "timestamp": 1623938100334,
     "user": {
      "displayName": "Sofia Marchesi",
      "photoUrl": "",
      "userId": "01949199438727912184"
     },
     "user_tz": 180
    },
    "id": "CCfp9llEi0RH",
    "outputId": "18cbf746-ffae-4bcb-943a-4be92ce2699d"
   },
   "outputs": [
    {
     "data": {
      "text/plain": [
       "<seaborn.axisgrid.FacetGrid at 0x7f26a4d1df90>"
      ]
     },
     "execution_count": 33,
     "metadata": {
      "tags": []
     },
     "output_type": "execute_result"
    },
    {
     "data": {
      "image/png": "[encoded data removed]",
      "text/plain": [
       "<Figure size 360x360 with 1 Axes>"
      ]
     },
     "metadata": {
      "tags": []
     },
     "output_type": "display_data"
    }
   ],
   "source": [
    "sns.catplot(y='LIMIT_BAL',x='DEFAULT',kind='box',data=df1)"
   ]
  },
  {
   "cell_type": "markdown",
   "metadata": {
    "id": "0fWcNcH5ONQx"
   },
   "source": [
    "Data is unbalanced 78% default = 0 and 22% default = 1 . It will be necessary to balance them in order to avoid erroneous predictions."
   ]
  },
  {
   "cell_type": "code",
   "execution_count": null,
   "metadata": {
    "colab": {
     "base_uri": "https://localhost:8080/"
    },
    "executionInfo": {
     "elapsed": 8,
     "status": "ok",
     "timestamp": 1623938101321,
     "user": {
      "displayName": "Sofia Marchesi",
      "photoUrl": "",
      "userId": "01949199438727912184"
     },
     "user_tz": 180
    },
    "id": "N_Wt6WrbeylR",
    "outputId": "d3adaa2e-e43a-4e58-fc8b-18c4ca4217cf"
   },
   "outputs": [
    {
     "data": {
      "text/plain": [
       "0    0.7788\n",
       "1    0.2212\n",
       "Name: DEFAULT, dtype: float64"
      ]
     },
     "execution_count": 34,
     "metadata": {
      "tags": []
     },
     "output_type": "execute_result"
    }
   ],
   "source": [
    "df.DEFAULT.value_counts(normalize=True)"
   ]
  },
  {
   "cell_type": "code",
   "execution_count": null,
   "metadata": {
    "colab": {
     "base_uri": "https://localhost:8080/"
    },
    "executionInfo": {
     "elapsed": 279,
     "status": "ok",
     "timestamp": 1623938121009,
     "user": {
      "displayName": "Sofia Marchesi",
      "photoUrl": "",
      "userId": "01949199438727912184"
     },
     "user_tz": 180
    },
    "id": "CrGraGCi4uw3",
    "outputId": "7eb552d4-7e15-4f58-df19-b3434cc5e6f2"
   },
   "outputs": [
    {
     "data": {
      "text/plain": [
       "0    23364\n",
       "1     6636\n",
       "Name: DEFAULT, dtype: int64"
      ]
     },
     "execution_count": 35,
     "metadata": {
      "tags": []
     },
     "output_type": "execute_result"
    }
   ],
   "source": [
    "df.DEFAULT.value_counts()"
   ]
  },
  {
   "cell_type": "markdown",
   "metadata": {
    "id": "FV90F-K8eylR"
   },
   "source": [
    "- Tranforming the categorical values into binary with the function get_dummies of pandas"
   ]
  },
  {
   "cell_type": "code",
   "execution_count": null,
   "metadata": {
    "colab": {
     "base_uri": "https://localhost:8080/"
    },
    "executionInfo": {
     "elapsed": 14,
     "status": "ok",
     "timestamp": 1623938122832,
     "user": {
      "displayName": "Sofia Marchesi",
      "photoUrl": "",
      "userId": "01949199438727912184"
     },
     "user_tz": 180
    },
    "id": "I8IstRK9gSO_",
    "outputId": "ab8dc53f-5222-4e41-f747-b6d9a7af6f02"
   },
   "outputs": [
    {
     "data": {
      "text/plain": [
       "(29999, 91)"
      ]
     },
     "execution_count": 36,
     "metadata": {
      "tags": []
     },
     "output_type": "execute_result"
    }
   ],
   "source": [
    "df_enc = pd.get_dummies(df1,columns=['EDUCATION','MARRIAGE','PAY_APR','PAY_MAY','PAY_JUN','PAY_JUL','PAY_AUG','PAY_SEP'])\n",
    "df_enc = df_enc.drop('DEFAULT',axis=1)\n",
    "df_enc.head()\n",
    "df_enc.shape"
   ]
  },
  {
   "cell_type": "code",
   "execution_count": null,
   "metadata": {
    "colab": {
     "base_uri": "https://localhost:8080/",
     "height": 407
    },
    "executionInfo": {
     "elapsed": 265,
     "status": "ok",
     "timestamp": 1623938124967,
     "user": {
      "displayName": "Sofia Marchesi",
      "photoUrl": "",
      "userId": "01949199438727912184"
     },
     "user_tz": 180
    },
    "id": "vtjHu5w42hl5",
    "outputId": "b22159ac-ad10-4376-826b-31d499b78a5c"
   },
   "outputs": [
    {
     "data": {
      "text/html": [
       "<div>\n",
       "<style scoped>\n",
       "    .dataframe tbody tr th:only-of-type {\n",
       "        vertical-align: middle;\n",
       "    }\n",
       "\n",
       "    .dataframe tbody tr th {\n",
       "        vertical-align: top;\n",
       "    }\n",
       "\n",
       "    .dataframe thead th {\n",
       "        text-align: right;\n",
       "    }\n",
       "</style>\n",
       "<table border=\"1\" class=\"dataframe\">\n",
       "  <thead>\n",
       "    <tr style=\"text-align: right;\">\n",
       "      <th></th>\n",
       "      <th>ID</th>\n",
       "      <th>LIMIT_BAL</th>\n",
       "      <th>SEX</th>\n",
       "      <th>AGE</th>\n",
       "      <th>BILL_APR</th>\n",
       "      <th>BILL_MAY</th>\n",
       "      <th>BILL_JUN</th>\n",
       "      <th>BILL_JUL</th>\n",
       "      <th>BILL_AUG</th>\n",
       "      <th>BILL_SEP</th>\n",
       "      <th>PAYAMT_SEP</th>\n",
       "      <th>PAYAMT_AUG</th>\n",
       "      <th>PAYAMT_JUL</th>\n",
       "      <th>PAYAMT_JUN</th>\n",
       "      <th>PAYAMT_MAY</th>\n",
       "      <th>PAYAMT_APR</th>\n",
       "      <th>EDUCATION_0</th>\n",
       "      <th>EDUCATION_1</th>\n",
       "      <th>EDUCATION_2</th>\n",
       "      <th>EDUCATION_3</th>\n",
       "      <th>EDUCATION_4</th>\n",
       "      <th>EDUCATION_5</th>\n",
       "      <th>EDUCATION_6</th>\n",
       "      <th>MARRIAGE_D</th>\n",
       "      <th>MARRIAGE_M</th>\n",
       "      <th>MARRIAGE_NA</th>\n",
       "      <th>MARRIAGE_S</th>\n",
       "      <th>PAY_APR_-2</th>\n",
       "      <th>PAY_APR_-1</th>\n",
       "      <th>PAY_APR_0</th>\n",
       "      <th>PAY_APR_1</th>\n",
       "      <th>PAY_APR_2</th>\n",
       "      <th>PAY_APR_3</th>\n",
       "      <th>PAY_APR_4</th>\n",
       "      <th>PAY_APR_5</th>\n",
       "      <th>PAY_APR_6</th>\n",
       "      <th>PAY_APR_7</th>\n",
       "      <th>PAY_APR_8</th>\n",
       "      <th>PAY_MAY_-2</th>\n",
       "      <th>PAY_MAY_-1</th>\n",
       "      <th>...</th>\n",
       "      <th>PAY_JUN_0</th>\n",
       "      <th>PAY_JUN_1</th>\n",
       "      <th>PAY_JUN_2</th>\n",
       "      <th>PAY_JUN_3</th>\n",
       "      <th>PAY_JUN_4</th>\n",
       "      <th>PAY_JUN_5</th>\n",
       "      <th>PAY_JUN_6</th>\n",
       "      <th>PAY_JUN_7</th>\n",
       "      <th>PAY_JUN_8</th>\n",
       "      <th>PAY_JUL_-2</th>\n",
       "      <th>PAY_JUL_-1</th>\n",
       "      <th>PAY_JUL_0</th>\n",
       "      <th>PAY_JUL_1</th>\n",
       "      <th>PAY_JUL_2</th>\n",
       "      <th>PAY_JUL_3</th>\n",
       "      <th>PAY_JUL_4</th>\n",
       "      <th>PAY_JUL_5</th>\n",
       "      <th>PAY_JUL_6</th>\n",
       "      <th>PAY_JUL_7</th>\n",
       "      <th>PAY_JUL_8</th>\n",
       "      <th>PAY_AUG_-2</th>\n",
       "      <th>PAY_AUG_-1</th>\n",
       "      <th>PAY_AUG_0</th>\n",
       "      <th>PAY_AUG_2</th>\n",
       "      <th>PAY_AUG_3</th>\n",
       "      <th>PAY_AUG_4</th>\n",
       "      <th>PAY_AUG_5</th>\n",
       "      <th>PAY_AUG_6</th>\n",
       "      <th>PAY_AUG_7</th>\n",
       "      <th>PAY_AUG_8</th>\n",
       "      <th>PAY_SEP_-2</th>\n",
       "      <th>PAY_SEP_-1</th>\n",
       "      <th>PAY_SEP_0</th>\n",
       "      <th>PAY_SEP_2</th>\n",
       "      <th>PAY_SEP_3</th>\n",
       "      <th>PAY_SEP_4</th>\n",
       "      <th>PAY_SEP_5</th>\n",
       "      <th>PAY_SEP_6</th>\n",
       "      <th>PAY_SEP_7</th>\n",
       "      <th>PAY_SEP_8</th>\n",
       "    </tr>\n",
       "  </thead>\n",
       "  <tbody>\n",
       "    <tr>\n",
       "      <th>0</th>\n",
       "      <td>1</td>\n",
       "      <td>20000</td>\n",
       "      <td>1</td>\n",
       "      <td>24</td>\n",
       "      <td>3913</td>\n",
       "      <td>3102</td>\n",
       "      <td>689</td>\n",
       "      <td>0</td>\n",
       "      <td>0</td>\n",
       "      <td>0</td>\n",
       "      <td>0</td>\n",
       "      <td>689</td>\n",
       "      <td>0</td>\n",
       "      <td>0</td>\n",
       "      <td>0</td>\n",
       "      <td>0</td>\n",
       "      <td>0</td>\n",
       "      <td>1</td>\n",
       "      <td>0</td>\n",
       "      <td>0</td>\n",
       "      <td>0</td>\n",
       "      <td>0</td>\n",
       "      <td>0</td>\n",
       "      <td>0</td>\n",
       "      <td>1</td>\n",
       "      <td>0</td>\n",
       "      <td>0</td>\n",
       "      <td>0</td>\n",
       "      <td>0</td>\n",
       "      <td>0</td>\n",
       "      <td>0</td>\n",
       "      <td>1</td>\n",
       "      <td>0</td>\n",
       "      <td>0</td>\n",
       "      <td>0</td>\n",
       "      <td>0</td>\n",
       "      <td>0</td>\n",
       "      <td>0</td>\n",
       "      <td>0</td>\n",
       "      <td>0</td>\n",
       "      <td>...</td>\n",
       "      <td>0</td>\n",
       "      <td>0</td>\n",
       "      <td>0</td>\n",
       "      <td>0</td>\n",
       "      <td>0</td>\n",
       "      <td>0</td>\n",
       "      <td>0</td>\n",
       "      <td>0</td>\n",
       "      <td>0</td>\n",
       "      <td>0</td>\n",
       "      <td>1</td>\n",
       "      <td>0</td>\n",
       "      <td>0</td>\n",
       "      <td>0</td>\n",
       "      <td>0</td>\n",
       "      <td>0</td>\n",
       "      <td>0</td>\n",
       "      <td>0</td>\n",
       "      <td>0</td>\n",
       "      <td>0</td>\n",
       "      <td>1</td>\n",
       "      <td>0</td>\n",
       "      <td>0</td>\n",
       "      <td>0</td>\n",
       "      <td>0</td>\n",
       "      <td>0</td>\n",
       "      <td>0</td>\n",
       "      <td>0</td>\n",
       "      <td>0</td>\n",
       "      <td>0</td>\n",
       "      <td>1</td>\n",
       "      <td>0</td>\n",
       "      <td>0</td>\n",
       "      <td>0</td>\n",
       "      <td>0</td>\n",
       "      <td>0</td>\n",
       "      <td>0</td>\n",
       "      <td>0</td>\n",
       "      <td>0</td>\n",
       "      <td>0</td>\n",
       "    </tr>\n",
       "    <tr>\n",
       "      <th>1</th>\n",
       "      <td>2</td>\n",
       "      <td>120000</td>\n",
       "      <td>1</td>\n",
       "      <td>26</td>\n",
       "      <td>2682</td>\n",
       "      <td>1725</td>\n",
       "      <td>2682</td>\n",
       "      <td>3272</td>\n",
       "      <td>3455</td>\n",
       "      <td>3261</td>\n",
       "      <td>0</td>\n",
       "      <td>1000</td>\n",
       "      <td>1000</td>\n",
       "      <td>1000</td>\n",
       "      <td>0</td>\n",
       "      <td>2000</td>\n",
       "      <td>0</td>\n",
       "      <td>1</td>\n",
       "      <td>0</td>\n",
       "      <td>0</td>\n",
       "      <td>0</td>\n",
       "      <td>0</td>\n",
       "      <td>0</td>\n",
       "      <td>0</td>\n",
       "      <td>0</td>\n",
       "      <td>0</td>\n",
       "      <td>1</td>\n",
       "      <td>0</td>\n",
       "      <td>1</td>\n",
       "      <td>0</td>\n",
       "      <td>0</td>\n",
       "      <td>0</td>\n",
       "      <td>0</td>\n",
       "      <td>0</td>\n",
       "      <td>0</td>\n",
       "      <td>0</td>\n",
       "      <td>0</td>\n",
       "      <td>0</td>\n",
       "      <td>0</td>\n",
       "      <td>0</td>\n",
       "      <td>...</td>\n",
       "      <td>1</td>\n",
       "      <td>0</td>\n",
       "      <td>0</td>\n",
       "      <td>0</td>\n",
       "      <td>0</td>\n",
       "      <td>0</td>\n",
       "      <td>0</td>\n",
       "      <td>0</td>\n",
       "      <td>0</td>\n",
       "      <td>0</td>\n",
       "      <td>0</td>\n",
       "      <td>1</td>\n",
       "      <td>0</td>\n",
       "      <td>0</td>\n",
       "      <td>0</td>\n",
       "      <td>0</td>\n",
       "      <td>0</td>\n",
       "      <td>0</td>\n",
       "      <td>0</td>\n",
       "      <td>0</td>\n",
       "      <td>0</td>\n",
       "      <td>0</td>\n",
       "      <td>1</td>\n",
       "      <td>0</td>\n",
       "      <td>0</td>\n",
       "      <td>0</td>\n",
       "      <td>0</td>\n",
       "      <td>0</td>\n",
       "      <td>0</td>\n",
       "      <td>0</td>\n",
       "      <td>0</td>\n",
       "      <td>0</td>\n",
       "      <td>0</td>\n",
       "      <td>1</td>\n",
       "      <td>0</td>\n",
       "      <td>0</td>\n",
       "      <td>0</td>\n",
       "      <td>0</td>\n",
       "      <td>0</td>\n",
       "      <td>0</td>\n",
       "    </tr>\n",
       "    <tr>\n",
       "      <th>2</th>\n",
       "      <td>3</td>\n",
       "      <td>90000</td>\n",
       "      <td>1</td>\n",
       "      <td>34</td>\n",
       "      <td>29239</td>\n",
       "      <td>14027</td>\n",
       "      <td>13559</td>\n",
       "      <td>14331</td>\n",
       "      <td>14948</td>\n",
       "      <td>15549</td>\n",
       "      <td>1518</td>\n",
       "      <td>1500</td>\n",
       "      <td>1000</td>\n",
       "      <td>1000</td>\n",
       "      <td>1000</td>\n",
       "      <td>5000</td>\n",
       "      <td>0</td>\n",
       "      <td>1</td>\n",
       "      <td>0</td>\n",
       "      <td>0</td>\n",
       "      <td>0</td>\n",
       "      <td>0</td>\n",
       "      <td>0</td>\n",
       "      <td>0</td>\n",
       "      <td>0</td>\n",
       "      <td>0</td>\n",
       "      <td>1</td>\n",
       "      <td>0</td>\n",
       "      <td>0</td>\n",
       "      <td>1</td>\n",
       "      <td>0</td>\n",
       "      <td>0</td>\n",
       "      <td>0</td>\n",
       "      <td>0</td>\n",
       "      <td>0</td>\n",
       "      <td>0</td>\n",
       "      <td>0</td>\n",
       "      <td>0</td>\n",
       "      <td>0</td>\n",
       "      <td>0</td>\n",
       "      <td>...</td>\n",
       "      <td>1</td>\n",
       "      <td>0</td>\n",
       "      <td>0</td>\n",
       "      <td>0</td>\n",
       "      <td>0</td>\n",
       "      <td>0</td>\n",
       "      <td>0</td>\n",
       "      <td>0</td>\n",
       "      <td>0</td>\n",
       "      <td>0</td>\n",
       "      <td>0</td>\n",
       "      <td>1</td>\n",
       "      <td>0</td>\n",
       "      <td>0</td>\n",
       "      <td>0</td>\n",
       "      <td>0</td>\n",
       "      <td>0</td>\n",
       "      <td>0</td>\n",
       "      <td>0</td>\n",
       "      <td>0</td>\n",
       "      <td>0</td>\n",
       "      <td>0</td>\n",
       "      <td>1</td>\n",
       "      <td>0</td>\n",
       "      <td>0</td>\n",
       "      <td>0</td>\n",
       "      <td>0</td>\n",
       "      <td>0</td>\n",
       "      <td>0</td>\n",
       "      <td>0</td>\n",
       "      <td>0</td>\n",
       "      <td>0</td>\n",
       "      <td>1</td>\n",
       "      <td>0</td>\n",
       "      <td>0</td>\n",
       "      <td>0</td>\n",
       "      <td>0</td>\n",
       "      <td>0</td>\n",
       "      <td>0</td>\n",
       "      <td>0</td>\n",
       "    </tr>\n",
       "    <tr>\n",
       "      <th>3</th>\n",
       "      <td>4</td>\n",
       "      <td>50000</td>\n",
       "      <td>1</td>\n",
       "      <td>37</td>\n",
       "      <td>46990</td>\n",
       "      <td>48233</td>\n",
       "      <td>49291</td>\n",
       "      <td>28314</td>\n",
       "      <td>28959</td>\n",
       "      <td>29547</td>\n",
       "      <td>2000</td>\n",
       "      <td>2019</td>\n",
       "      <td>1200</td>\n",
       "      <td>1100</td>\n",
       "      <td>1069</td>\n",
       "      <td>1000</td>\n",
       "      <td>0</td>\n",
       "      <td>1</td>\n",
       "      <td>0</td>\n",
       "      <td>0</td>\n",
       "      <td>0</td>\n",
       "      <td>0</td>\n",
       "      <td>0</td>\n",
       "      <td>0</td>\n",
       "      <td>1</td>\n",
       "      <td>0</td>\n",
       "      <td>0</td>\n",
       "      <td>0</td>\n",
       "      <td>0</td>\n",
       "      <td>1</td>\n",
       "      <td>0</td>\n",
       "      <td>0</td>\n",
       "      <td>0</td>\n",
       "      <td>0</td>\n",
       "      <td>0</td>\n",
       "      <td>0</td>\n",
       "      <td>0</td>\n",
       "      <td>0</td>\n",
       "      <td>0</td>\n",
       "      <td>0</td>\n",
       "      <td>...</td>\n",
       "      <td>1</td>\n",
       "      <td>0</td>\n",
       "      <td>0</td>\n",
       "      <td>0</td>\n",
       "      <td>0</td>\n",
       "      <td>0</td>\n",
       "      <td>0</td>\n",
       "      <td>0</td>\n",
       "      <td>0</td>\n",
       "      <td>0</td>\n",
       "      <td>0</td>\n",
       "      <td>1</td>\n",
       "      <td>0</td>\n",
       "      <td>0</td>\n",
       "      <td>0</td>\n",
       "      <td>0</td>\n",
       "      <td>0</td>\n",
       "      <td>0</td>\n",
       "      <td>0</td>\n",
       "      <td>0</td>\n",
       "      <td>0</td>\n",
       "      <td>0</td>\n",
       "      <td>1</td>\n",
       "      <td>0</td>\n",
       "      <td>0</td>\n",
       "      <td>0</td>\n",
       "      <td>0</td>\n",
       "      <td>0</td>\n",
       "      <td>0</td>\n",
       "      <td>0</td>\n",
       "      <td>0</td>\n",
       "      <td>0</td>\n",
       "      <td>1</td>\n",
       "      <td>0</td>\n",
       "      <td>0</td>\n",
       "      <td>0</td>\n",
       "      <td>0</td>\n",
       "      <td>0</td>\n",
       "      <td>0</td>\n",
       "      <td>0</td>\n",
       "    </tr>\n",
       "    <tr>\n",
       "      <th>4</th>\n",
       "      <td>5</td>\n",
       "      <td>50000</td>\n",
       "      <td>0</td>\n",
       "      <td>57</td>\n",
       "      <td>8617</td>\n",
       "      <td>5670</td>\n",
       "      <td>35835</td>\n",
       "      <td>20940</td>\n",
       "      <td>19146</td>\n",
       "      <td>19131</td>\n",
       "      <td>2000</td>\n",
       "      <td>36681</td>\n",
       "      <td>10000</td>\n",
       "      <td>9000</td>\n",
       "      <td>689</td>\n",
       "      <td>679</td>\n",
       "      <td>0</td>\n",
       "      <td>1</td>\n",
       "      <td>0</td>\n",
       "      <td>0</td>\n",
       "      <td>0</td>\n",
       "      <td>0</td>\n",
       "      <td>0</td>\n",
       "      <td>0</td>\n",
       "      <td>1</td>\n",
       "      <td>0</td>\n",
       "      <td>0</td>\n",
       "      <td>0</td>\n",
       "      <td>1</td>\n",
       "      <td>0</td>\n",
       "      <td>0</td>\n",
       "      <td>0</td>\n",
       "      <td>0</td>\n",
       "      <td>0</td>\n",
       "      <td>0</td>\n",
       "      <td>0</td>\n",
       "      <td>0</td>\n",
       "      <td>0</td>\n",
       "      <td>0</td>\n",
       "      <td>0</td>\n",
       "      <td>...</td>\n",
       "      <td>0</td>\n",
       "      <td>0</td>\n",
       "      <td>0</td>\n",
       "      <td>0</td>\n",
       "      <td>0</td>\n",
       "      <td>0</td>\n",
       "      <td>0</td>\n",
       "      <td>0</td>\n",
       "      <td>0</td>\n",
       "      <td>0</td>\n",
       "      <td>0</td>\n",
       "      <td>1</td>\n",
       "      <td>0</td>\n",
       "      <td>0</td>\n",
       "      <td>0</td>\n",
       "      <td>0</td>\n",
       "      <td>0</td>\n",
       "      <td>0</td>\n",
       "      <td>0</td>\n",
       "      <td>0</td>\n",
       "      <td>0</td>\n",
       "      <td>0</td>\n",
       "      <td>1</td>\n",
       "      <td>0</td>\n",
       "      <td>0</td>\n",
       "      <td>0</td>\n",
       "      <td>0</td>\n",
       "      <td>0</td>\n",
       "      <td>0</td>\n",
       "      <td>0</td>\n",
       "      <td>0</td>\n",
       "      <td>0</td>\n",
       "      <td>1</td>\n",
       "      <td>0</td>\n",
       "      <td>0</td>\n",
       "      <td>0</td>\n",
       "      <td>0</td>\n",
       "      <td>0</td>\n",
       "      <td>0</td>\n",
       "      <td>0</td>\n",
       "    </tr>\n",
       "    <tr>\n",
       "      <th>5</th>\n",
       "      <td>6</td>\n",
       "      <td>50000</td>\n",
       "      <td>0</td>\n",
       "      <td>37</td>\n",
       "      <td>64400</td>\n",
       "      <td>57069</td>\n",
       "      <td>57608</td>\n",
       "      <td>19394</td>\n",
       "      <td>19619</td>\n",
       "      <td>20024</td>\n",
       "      <td>2500</td>\n",
       "      <td>1815</td>\n",
       "      <td>657</td>\n",
       "      <td>1000</td>\n",
       "      <td>1000</td>\n",
       "      <td>800</td>\n",
       "      <td>1</td>\n",
       "      <td>0</td>\n",
       "      <td>0</td>\n",
       "      <td>0</td>\n",
       "      <td>0</td>\n",
       "      <td>0</td>\n",
       "      <td>0</td>\n",
       "      <td>0</td>\n",
       "      <td>0</td>\n",
       "      <td>0</td>\n",
       "      <td>1</td>\n",
       "      <td>0</td>\n",
       "      <td>0</td>\n",
       "      <td>1</td>\n",
       "      <td>0</td>\n",
       "      <td>0</td>\n",
       "      <td>0</td>\n",
       "      <td>0</td>\n",
       "      <td>0</td>\n",
       "      <td>0</td>\n",
       "      <td>0</td>\n",
       "      <td>0</td>\n",
       "      <td>0</td>\n",
       "      <td>0</td>\n",
       "      <td>...</td>\n",
       "      <td>1</td>\n",
       "      <td>0</td>\n",
       "      <td>0</td>\n",
       "      <td>0</td>\n",
       "      <td>0</td>\n",
       "      <td>0</td>\n",
       "      <td>0</td>\n",
       "      <td>0</td>\n",
       "      <td>0</td>\n",
       "      <td>0</td>\n",
       "      <td>0</td>\n",
       "      <td>1</td>\n",
       "      <td>0</td>\n",
       "      <td>0</td>\n",
       "      <td>0</td>\n",
       "      <td>0</td>\n",
       "      <td>0</td>\n",
       "      <td>0</td>\n",
       "      <td>0</td>\n",
       "      <td>0</td>\n",
       "      <td>0</td>\n",
       "      <td>0</td>\n",
       "      <td>1</td>\n",
       "      <td>0</td>\n",
       "      <td>0</td>\n",
       "      <td>0</td>\n",
       "      <td>0</td>\n",
       "      <td>0</td>\n",
       "      <td>0</td>\n",
       "      <td>0</td>\n",
       "      <td>0</td>\n",
       "      <td>0</td>\n",
       "      <td>1</td>\n",
       "      <td>0</td>\n",
       "      <td>0</td>\n",
       "      <td>0</td>\n",
       "      <td>0</td>\n",
       "      <td>0</td>\n",
       "      <td>0</td>\n",
       "      <td>0</td>\n",
       "    </tr>\n",
       "    <tr>\n",
       "      <th>6</th>\n",
       "      <td>7</td>\n",
       "      <td>500000</td>\n",
       "      <td>0</td>\n",
       "      <td>29</td>\n",
       "      <td>367965</td>\n",
       "      <td>412023</td>\n",
       "      <td>445007</td>\n",
       "      <td>542653</td>\n",
       "      <td>483003</td>\n",
       "      <td>473944</td>\n",
       "      <td>55000</td>\n",
       "      <td>40000</td>\n",
       "      <td>38000</td>\n",
       "      <td>20239</td>\n",
       "      <td>13750</td>\n",
       "      <td>13770</td>\n",
       "      <td>1</td>\n",
       "      <td>0</td>\n",
       "      <td>0</td>\n",
       "      <td>0</td>\n",
       "      <td>0</td>\n",
       "      <td>0</td>\n",
       "      <td>0</td>\n",
       "      <td>0</td>\n",
       "      <td>0</td>\n",
       "      <td>0</td>\n",
       "      <td>1</td>\n",
       "      <td>0</td>\n",
       "      <td>0</td>\n",
       "      <td>1</td>\n",
       "      <td>0</td>\n",
       "      <td>0</td>\n",
       "      <td>0</td>\n",
       "      <td>0</td>\n",
       "      <td>0</td>\n",
       "      <td>0</td>\n",
       "      <td>0</td>\n",
       "      <td>0</td>\n",
       "      <td>0</td>\n",
       "      <td>0</td>\n",
       "      <td>...</td>\n",
       "      <td>1</td>\n",
       "      <td>0</td>\n",
       "      <td>0</td>\n",
       "      <td>0</td>\n",
       "      <td>0</td>\n",
       "      <td>0</td>\n",
       "      <td>0</td>\n",
       "      <td>0</td>\n",
       "      <td>0</td>\n",
       "      <td>0</td>\n",
       "      <td>0</td>\n",
       "      <td>1</td>\n",
       "      <td>0</td>\n",
       "      <td>0</td>\n",
       "      <td>0</td>\n",
       "      <td>0</td>\n",
       "      <td>0</td>\n",
       "      <td>0</td>\n",
       "      <td>0</td>\n",
       "      <td>0</td>\n",
       "      <td>0</td>\n",
       "      <td>0</td>\n",
       "      <td>1</td>\n",
       "      <td>0</td>\n",
       "      <td>0</td>\n",
       "      <td>0</td>\n",
       "      <td>0</td>\n",
       "      <td>0</td>\n",
       "      <td>0</td>\n",
       "      <td>0</td>\n",
       "      <td>0</td>\n",
       "      <td>0</td>\n",
       "      <td>1</td>\n",
       "      <td>0</td>\n",
       "      <td>0</td>\n",
       "      <td>0</td>\n",
       "      <td>0</td>\n",
       "      <td>0</td>\n",
       "      <td>0</td>\n",
       "      <td>0</td>\n",
       "    </tr>\n",
       "    <tr>\n",
       "      <th>7</th>\n",
       "      <td>8</td>\n",
       "      <td>100000</td>\n",
       "      <td>1</td>\n",
       "      <td>23</td>\n",
       "      <td>11876</td>\n",
       "      <td>380</td>\n",
       "      <td>601</td>\n",
       "      <td>221</td>\n",
       "      <td>-159</td>\n",
       "      <td>567</td>\n",
       "      <td>380</td>\n",
       "      <td>601</td>\n",
       "      <td>0</td>\n",
       "      <td>581</td>\n",
       "      <td>1687</td>\n",
       "      <td>1542</td>\n",
       "      <td>0</td>\n",
       "      <td>1</td>\n",
       "      <td>0</td>\n",
       "      <td>0</td>\n",
       "      <td>0</td>\n",
       "      <td>0</td>\n",
       "      <td>0</td>\n",
       "      <td>0</td>\n",
       "      <td>0</td>\n",
       "      <td>0</td>\n",
       "      <td>1</td>\n",
       "      <td>0</td>\n",
       "      <td>0</td>\n",
       "      <td>1</td>\n",
       "      <td>0</td>\n",
       "      <td>0</td>\n",
       "      <td>0</td>\n",
       "      <td>0</td>\n",
       "      <td>0</td>\n",
       "      <td>0</td>\n",
       "      <td>0</td>\n",
       "      <td>0</td>\n",
       "      <td>0</td>\n",
       "      <td>1</td>\n",
       "      <td>...</td>\n",
       "      <td>0</td>\n",
       "      <td>0</td>\n",
       "      <td>0</td>\n",
       "      <td>0</td>\n",
       "      <td>0</td>\n",
       "      <td>0</td>\n",
       "      <td>0</td>\n",
       "      <td>0</td>\n",
       "      <td>0</td>\n",
       "      <td>0</td>\n",
       "      <td>0</td>\n",
       "      <td>1</td>\n",
       "      <td>0</td>\n",
       "      <td>0</td>\n",
       "      <td>0</td>\n",
       "      <td>0</td>\n",
       "      <td>0</td>\n",
       "      <td>0</td>\n",
       "      <td>0</td>\n",
       "      <td>0</td>\n",
       "      <td>0</td>\n",
       "      <td>0</td>\n",
       "      <td>1</td>\n",
       "      <td>0</td>\n",
       "      <td>0</td>\n",
       "      <td>0</td>\n",
       "      <td>0</td>\n",
       "      <td>0</td>\n",
       "      <td>0</td>\n",
       "      <td>0</td>\n",
       "      <td>0</td>\n",
       "      <td>1</td>\n",
       "      <td>0</td>\n",
       "      <td>0</td>\n",
       "      <td>0</td>\n",
       "      <td>0</td>\n",
       "      <td>0</td>\n",
       "      <td>0</td>\n",
       "      <td>0</td>\n",
       "      <td>0</td>\n",
       "    </tr>\n",
       "    <tr>\n",
       "      <th>8</th>\n",
       "      <td>9</td>\n",
       "      <td>140000</td>\n",
       "      <td>1</td>\n",
       "      <td>28</td>\n",
       "      <td>11285</td>\n",
       "      <td>14096</td>\n",
       "      <td>12108</td>\n",
       "      <td>12211</td>\n",
       "      <td>11793</td>\n",
       "      <td>3719</td>\n",
       "      <td>3329</td>\n",
       "      <td>0</td>\n",
       "      <td>432</td>\n",
       "      <td>1000</td>\n",
       "      <td>1000</td>\n",
       "      <td>1000</td>\n",
       "      <td>0</td>\n",
       "      <td>0</td>\n",
       "      <td>1</td>\n",
       "      <td>0</td>\n",
       "      <td>0</td>\n",
       "      <td>0</td>\n",
       "      <td>0</td>\n",
       "      <td>0</td>\n",
       "      <td>1</td>\n",
       "      <td>0</td>\n",
       "      <td>0</td>\n",
       "      <td>0</td>\n",
       "      <td>0</td>\n",
       "      <td>1</td>\n",
       "      <td>0</td>\n",
       "      <td>0</td>\n",
       "      <td>0</td>\n",
       "      <td>0</td>\n",
       "      <td>0</td>\n",
       "      <td>0</td>\n",
       "      <td>0</td>\n",
       "      <td>0</td>\n",
       "      <td>0</td>\n",
       "      <td>0</td>\n",
       "      <td>...</td>\n",
       "      <td>0</td>\n",
       "      <td>0</td>\n",
       "      <td>1</td>\n",
       "      <td>0</td>\n",
       "      <td>0</td>\n",
       "      <td>0</td>\n",
       "      <td>0</td>\n",
       "      <td>0</td>\n",
       "      <td>0</td>\n",
       "      <td>0</td>\n",
       "      <td>0</td>\n",
       "      <td>1</td>\n",
       "      <td>0</td>\n",
       "      <td>0</td>\n",
       "      <td>0</td>\n",
       "      <td>0</td>\n",
       "      <td>0</td>\n",
       "      <td>0</td>\n",
       "      <td>0</td>\n",
       "      <td>0</td>\n",
       "      <td>0</td>\n",
       "      <td>0</td>\n",
       "      <td>1</td>\n",
       "      <td>0</td>\n",
       "      <td>0</td>\n",
       "      <td>0</td>\n",
       "      <td>0</td>\n",
       "      <td>0</td>\n",
       "      <td>0</td>\n",
       "      <td>0</td>\n",
       "      <td>0</td>\n",
       "      <td>0</td>\n",
       "      <td>1</td>\n",
       "      <td>0</td>\n",
       "      <td>0</td>\n",
       "      <td>0</td>\n",
       "      <td>0</td>\n",
       "      <td>0</td>\n",
       "      <td>0</td>\n",
       "      <td>0</td>\n",
       "    </tr>\n",
       "    <tr>\n",
       "      <th>9</th>\n",
       "      <td>10</td>\n",
       "      <td>20000</td>\n",
       "      <td>0</td>\n",
       "      <td>35</td>\n",
       "      <td>0</td>\n",
       "      <td>0</td>\n",
       "      <td>0</td>\n",
       "      <td>0</td>\n",
       "      <td>13007</td>\n",
       "      <td>13912</td>\n",
       "      <td>0</td>\n",
       "      <td>0</td>\n",
       "      <td>0</td>\n",
       "      <td>13007</td>\n",
       "      <td>1122</td>\n",
       "      <td>0</td>\n",
       "      <td>0</td>\n",
       "      <td>0</td>\n",
       "      <td>1</td>\n",
       "      <td>0</td>\n",
       "      <td>0</td>\n",
       "      <td>0</td>\n",
       "      <td>0</td>\n",
       "      <td>0</td>\n",
       "      <td>0</td>\n",
       "      <td>0</td>\n",
       "      <td>1</td>\n",
       "      <td>1</td>\n",
       "      <td>0</td>\n",
       "      <td>0</td>\n",
       "      <td>0</td>\n",
       "      <td>0</td>\n",
       "      <td>0</td>\n",
       "      <td>0</td>\n",
       "      <td>0</td>\n",
       "      <td>0</td>\n",
       "      <td>0</td>\n",
       "      <td>0</td>\n",
       "      <td>1</td>\n",
       "      <td>0</td>\n",
       "      <td>...</td>\n",
       "      <td>0</td>\n",
       "      <td>0</td>\n",
       "      <td>0</td>\n",
       "      <td>0</td>\n",
       "      <td>0</td>\n",
       "      <td>0</td>\n",
       "      <td>0</td>\n",
       "      <td>0</td>\n",
       "      <td>0</td>\n",
       "      <td>1</td>\n",
       "      <td>0</td>\n",
       "      <td>0</td>\n",
       "      <td>0</td>\n",
       "      <td>0</td>\n",
       "      <td>0</td>\n",
       "      <td>0</td>\n",
       "      <td>0</td>\n",
       "      <td>0</td>\n",
       "      <td>0</td>\n",
       "      <td>0</td>\n",
       "      <td>0</td>\n",
       "      <td>1</td>\n",
       "      <td>0</td>\n",
       "      <td>0</td>\n",
       "      <td>0</td>\n",
       "      <td>0</td>\n",
       "      <td>0</td>\n",
       "      <td>0</td>\n",
       "      <td>0</td>\n",
       "      <td>0</td>\n",
       "      <td>0</td>\n",
       "      <td>1</td>\n",
       "      <td>0</td>\n",
       "      <td>0</td>\n",
       "      <td>0</td>\n",
       "      <td>0</td>\n",
       "      <td>0</td>\n",
       "      <td>0</td>\n",
       "      <td>0</td>\n",
       "      <td>0</td>\n",
       "    </tr>\n",
       "  </tbody>\n",
       "</table>\n",
       "<p>10 rows × 91 columns</p>\n",
       "</div>"
      ],
      "text/plain": [
       "   ID  LIMIT_BAL  SEX  AGE  ...  PAY_SEP_5  PAY_SEP_6  PAY_SEP_7  PAY_SEP_8\n",
       "0   1      20000    1   24  ...          0          0          0          0\n",
       "1   2     120000    1   26  ...          0          0          0          0\n",
       "2   3      90000    1   34  ...          0          0          0          0\n",
       "3   4      50000    1   37  ...          0          0          0          0\n",
       "4   5      50000    0   57  ...          0          0          0          0\n",
       "5   6      50000    0   37  ...          0          0          0          0\n",
       "6   7     500000    0   29  ...          0          0          0          0\n",
       "7   8     100000    1   23  ...          0          0          0          0\n",
       "8   9     140000    1   28  ...          0          0          0          0\n",
       "9  10      20000    0   35  ...          0          0          0          0\n",
       "\n",
       "[10 rows x 91 columns]"
      ]
     },
     "execution_count": 37,
     "metadata": {
      "tags": []
     },
     "output_type": "execute_result"
    }
   ],
   "source": [
    "df_enc.head(10)"
   ]
  },
  {
   "cell_type": "code",
   "execution_count": null,
   "metadata": {
    "id": "y9ASZ14BdqbZ"
   },
   "outputs": [],
   "source": [
    "df_default = df1.DEFAULT"
   ]
  },
  {
   "cell_type": "code",
   "execution_count": null,
   "metadata": {
    "colab": {
     "base_uri": "https://localhost:8080/"
    },
    "executionInfo": {
     "elapsed": 299,
     "status": "ok",
     "timestamp": 1623938134337,
     "user": {
      "displayName": "Sofia Marchesi",
      "photoUrl": "",
      "userId": "01949199438727912184"
     },
     "user_tz": 180
    },
    "id": "gbNxjcgyo7Of",
    "outputId": "eaf1491a-3352-4ded-c7ac-01613c11c8bb"
   },
   "outputs": [
    {
     "name": "stdout",
     "output_type": "stream",
     "text": [
      "<class 'pandas.core.frame.DataFrame'>\n",
      "Int64Index: 29999 entries, 0 to 29999\n",
      "Data columns (total 91 columns):\n",
      " #   Column       Non-Null Count  Dtype\n",
      "---  ------       --------------  -----\n",
      " 0   ID           29999 non-null  int64\n",
      " 1   LIMIT_BAL    29999 non-null  int64\n",
      " 2   SEX          29999 non-null  int64\n",
      " 3   AGE          29999 non-null  int64\n",
      " 4   BILL_APR     29999 non-null  int64\n",
      " 5   BILL_MAY     29999 non-null  int64\n",
      " 6   BILL_JUN     29999 non-null  int64\n",
      " 7   BILL_JUL     29999 non-null  int64\n",
      " 8   BILL_AUG     29999 non-null  int64\n",
      " 9   BILL_SEP     29999 non-null  int64\n",
      " 10  PAYAMT_SEP   29999 non-null  int64\n",
      " 11  PAYAMT_AUG   29999 non-null  int64\n",
      " 12  PAYAMT_JUL   29999 non-null  int64\n",
      " 13  PAYAMT_JUN   29999 non-null  int64\n",
      " 14  PAYAMT_MAY   29999 non-null  int64\n",
      " 15  PAYAMT_APR   29999 non-null  int64\n",
      " 16  EDUCATION_0  29999 non-null  uint8\n",
      " 17  EDUCATION_1  29999 non-null  uint8\n",
      " 18  EDUCATION_2  29999 non-null  uint8\n",
      " 19  EDUCATION_3  29999 non-null  uint8\n",
      " 20  EDUCATION_4  29999 non-null  uint8\n",
      " 21  EDUCATION_5  29999 non-null  uint8\n",
      " 22  EDUCATION_6  29999 non-null  uint8\n",
      " 23  MARRIAGE_D   29999 non-null  uint8\n",
      " 24  MARRIAGE_M   29999 non-null  uint8\n",
      " 25  MARRIAGE_NA  29999 non-null  uint8\n",
      " 26  MARRIAGE_S   29999 non-null  uint8\n",
      " 27  PAY_APR_-2   29999 non-null  uint8\n",
      " 28  PAY_APR_-1   29999 non-null  uint8\n",
      " 29  PAY_APR_0    29999 non-null  uint8\n",
      " 30  PAY_APR_1    29999 non-null  uint8\n",
      " 31  PAY_APR_2    29999 non-null  uint8\n",
      " 32  PAY_APR_3    29999 non-null  uint8\n",
      " 33  PAY_APR_4    29999 non-null  uint8\n",
      " 34  PAY_APR_5    29999 non-null  uint8\n",
      " 35  PAY_APR_6    29999 non-null  uint8\n",
      " 36  PAY_APR_7    29999 non-null  uint8\n",
      " 37  PAY_APR_8    29999 non-null  uint8\n",
      " 38  PAY_MAY_-2   29999 non-null  uint8\n",
      " 39  PAY_MAY_-1   29999 non-null  uint8\n",
      " 40  PAY_MAY_0    29999 non-null  uint8\n",
      " 41  PAY_MAY_1    29999 non-null  uint8\n",
      " 42  PAY_MAY_2    29999 non-null  uint8\n",
      " 43  PAY_MAY_3    29999 non-null  uint8\n",
      " 44  PAY_MAY_4    29999 non-null  uint8\n",
      " 45  PAY_MAY_5    29999 non-null  uint8\n",
      " 46  PAY_MAY_6    29999 non-null  uint8\n",
      " 47  PAY_MAY_7    29999 non-null  uint8\n",
      " 48  PAY_MAY_8    29999 non-null  uint8\n",
      " 49  PAY_JUN_-2   29999 non-null  uint8\n",
      " 50  PAY_JUN_-1   29999 non-null  uint8\n",
      " 51  PAY_JUN_0    29999 non-null  uint8\n",
      " 52  PAY_JUN_1    29999 non-null  uint8\n",
      " 53  PAY_JUN_2    29999 non-null  uint8\n",
      " 54  PAY_JUN_3    29999 non-null  uint8\n",
      " 55  PAY_JUN_4    29999 non-null  uint8\n",
      " 56  PAY_JUN_5    29999 non-null  uint8\n",
      " 57  PAY_JUN_6    29999 non-null  uint8\n",
      " 58  PAY_JUN_7    29999 non-null  uint8\n",
      " 59  PAY_JUN_8    29999 non-null  uint8\n",
      " 60  PAY_JUL_-2   29999 non-null  uint8\n",
      " 61  PAY_JUL_-1   29999 non-null  uint8\n",
      " 62  PAY_JUL_0    29999 non-null  uint8\n",
      " 63  PAY_JUL_1    29999 non-null  uint8\n",
      " 64  PAY_JUL_2    29999 non-null  uint8\n",
      " 65  PAY_JUL_3    29999 non-null  uint8\n",
      " 66  PAY_JUL_4    29999 non-null  uint8\n",
      " 67  PAY_JUL_5    29999 non-null  uint8\n",
      " 68  PAY_JUL_6    29999 non-null  uint8\n",
      " 69  PAY_JUL_7    29999 non-null  uint8\n",
      " 70  PAY_JUL_8    29999 non-null  uint8\n",
      " 71  PAY_AUG_-2   29999 non-null  uint8\n",
      " 72  PAY_AUG_-1   29999 non-null  uint8\n",
      " 73  PAY_AUG_0    29999 non-null  uint8\n",
      " 74  PAY_AUG_2    29999 non-null  uint8\n",
      " 75  PAY_AUG_3    29999 non-null  uint8\n",
      " 76  PAY_AUG_4    29999 non-null  uint8\n",
      " 77  PAY_AUG_5    29999 non-null  uint8\n",
      " 78  PAY_AUG_6    29999 non-null  uint8\n",
      " 79  PAY_AUG_7    29999 non-null  uint8\n",
      " 80  PAY_AUG_8    29999 non-null  uint8\n",
      " 81  PAY_SEP_-2   29999 non-null  uint8\n",
      " 82  PAY_SEP_-1   29999 non-null  uint8\n",
      " 83  PAY_SEP_0    29999 non-null  uint8\n",
      " 84  PAY_SEP_2    29999 non-null  uint8\n",
      " 85  PAY_SEP_3    29999 non-null  uint8\n",
      " 86  PAY_SEP_4    29999 non-null  uint8\n",
      " 87  PAY_SEP_5    29999 non-null  uint8\n",
      " 88  PAY_SEP_6    29999 non-null  uint8\n",
      " 89  PAY_SEP_7    29999 non-null  uint8\n",
      " 90  PAY_SEP_8    29999 non-null  uint8\n",
      "dtypes: int64(16), uint8(75)\n",
      "memory usage: 7.3 MB\n"
     ]
    }
   ],
   "source": [
    "df_enc.info()"
   ]
  },
  {
   "cell_type": "code",
   "execution_count": null,
   "metadata": {
    "id": "ThMExFNhnzwo"
   },
   "outputs": [],
   "source": [
    "features = list(df_enc.columns)[1:]"
   ]
  },
  {
   "cell_type": "code",
   "execution_count": null,
   "metadata": {
    "colab": {
     "base_uri": "https://localhost:8080/"
    },
    "executionInfo": {
     "elapsed": 313,
     "status": "ok",
     "timestamp": 1623938139921,
     "user": {
      "displayName": "Sofia Marchesi",
      "photoUrl": "",
      "userId": "01949199438727912184"
     },
     "user_tz": 180
    },
    "id": "t8OVb-amQJBl",
    "outputId": "b9669a59-e4a2-421f-c0d3-c62218d64080"
   },
   "outputs": [
    {
     "data": {
      "text/plain": [
       "0    23363\n",
       "1     6636\n",
       "Name: DEFAULT, dtype: int64"
      ]
     },
     "execution_count": 41,
     "metadata": {
      "tags": []
     },
     "output_type": "execute_result"
    }
   ],
   "source": [
    "df1['DEFAULT'].value_counts()"
   ]
  },
  {
   "cell_type": "markdown",
   "metadata": {
    "id": "luQLhUEWeylS"
   },
   "source": [
    "As stated above, the data is unbalanced. Therefore, the \"undersampler\" technique will be used."
   ]
  },
  {
   "cell_type": "code",
   "execution_count": null,
   "metadata": {
    "colab": {
     "base_uri": "https://localhost:8080/",
     "height": 409
    },
    "executionInfo": {
     "elapsed": 666,
     "status": "ok",
     "timestamp": 1623949573035,
     "user": {
      "displayName": "Sofia Marchesi",
      "photoUrl": "",
      "userId": "01949199438727912184"
     },
     "user_tz": 180
    },
    "id": "wOUk1pyQeylS",
    "outputId": "cea3c460-6d8d-4a29-b63c-51dff3ea9d43"
   },
   "outputs": [
    {
     "name": "stdout",
     "output_type": "stream",
     "text": [
      "1    5000\n",
      "0    5000\n",
      "dtype: int64\n"
     ]
    },
    {
     "name": "stderr",
     "output_type": "stream",
     "text": [
      "/usr/local/lib/python3.7/dist-packages/sklearn/utils/deprecation.py:87: FutureWarning: Function safe_indexing is deprecated; safe_indexing is deprecated in version 0.22 and will be removed in version 0.24.\n",
      "  warnings.warn(msg, category=FutureWarning)\n",
      "/usr/local/lib/python3.7/dist-packages/seaborn/_decorators.py:43: FutureWarning: Pass the following variable as a keyword arg: x. From version 0.12, the only valid positional argument will be `data`, and passing other arguments without an explicit keyword will result in an error or misinterpretation.\n",
      "  FutureWarning\n"
     ]
    },
    {
     "data": {
      "image/png": "[encoded data removed]",
      "text/plain": [
       "<Figure size 432x288 with 1 Axes>"
      ]
     },
     "metadata": {
      "needs_background": "light",
      "tags": []
     },
     "output_type": "display_data"
    }
   ],
   "source": [
    "y = df_default\n",
    "X = df_enc[features]\n",
    "X_train, X_test, y_train, y_test = train_test_split(X,y,random_state=0,test_size=0.25)\n",
    "\n",
    "\n",
    "X_train, y_train = RandomUnderSampler().fit_sample(X_train, y_train)\n",
    "print(pd.Series(y_train).value_counts())\n",
    "sns.countplot(y_train)\n",
    "\n",
    "X_train = StandardScaler().fit_transform(X_train)\n",
    "X_test = StandardScaler().fit_transform(X_test)"
   ]
  },
  {
   "cell_type": "code",
   "execution_count": null,
   "metadata": {
    "colab": {
     "base_uri": "https://localhost:8080/"
    },
    "executionInfo": {
     "elapsed": 627,
     "status": "ok",
     "timestamp": 1623854463463,
     "user": {
      "displayName": "Sofia Marchesi",
      "photoUrl": "",
      "userId": "01949199438727912184"
     },
     "user_tz": 180
    },
    "id": "XKxCtnqz6eIp",
    "outputId": "a93eeb5e-fca1-411b-8cc6-d4cd637a8a5d"
   },
   "outputs": [
    {
     "data": {
      "text/plain": [
       "(10000, 90)"
      ]
     },
     "execution_count": 117,
     "metadata": {
      "tags": []
     },
     "output_type": "execute_result"
    }
   ],
   "source": [
    "X_train.shape"
   ]
  },
  {
   "cell_type": "markdown",
   "metadata": {
    "id": "kJ10M-UoDZfM"
   },
   "source": [
    "# 4. Machine Learning:\n",
    "The following estimators were tested, among which XGBClassifier had the best result.\n",
    "\n",
    "- RandomForestClassifier;\n",
    "- DecisionTreeClassifier;\n",
    "- XGBClassifier;\n",
    "- SGDClassifier;\n",
    "- LogisticRegression;\n",
    "- RidgeClassifier.\n"
   ]
  },
  {
   "cell_type": "markdown",
   "metadata": {
    "id": "nLKZgBMbvc3b"
   },
   "source": [
    "# 4.1. RandomForestClassifier"
   ]
  },
  {
   "cell_type": "code",
   "execution_count": null,
   "metadata": {
    "colab": {
     "background_save": true,
     "base_uri": "https://localhost:8080/"
    },
    "id": "2JdXKxZY01vm",
    "outputId": "524ed280-7d42-4dbc-e458-c18055716e11"
   },
   "outputs": [
    {
     "name": "stdout",
     "output_type": "stream",
     "text": [
      "Fitting 5 folds for each of 300 candidates, totalling 1500 fits\n"
     ]
    },
    {
     "name": "stderr",
     "output_type": "stream",
     "text": [
      "[Parallel(n_jobs=-1)]: Using backend LokyBackend with 2 concurrent workers.\n",
      "[Parallel(n_jobs=-1)]: Done  46 tasks      | elapsed:  4.5min\n",
      "[Parallel(n_jobs=-1)]: Done 196 tasks      | elapsed: 17.1min\n",
      "[Parallel(n_jobs=-1)]: Done 446 tasks      | elapsed: 31.7min\n",
      "[Parallel(n_jobs=-1)]: Done 796 tasks      | elapsed: 41.8min\n"
     ]
    }
   ],
   "source": [
    "rf_cls = RandomForestClassifier(random_state=0)\n",
    "\n",
    "param_dist = {\"n_estimators\": [400,450,500,550,600],\n",
    "              'max_depth': [None,2,4,6],\n",
    "              \"min_samples_leaf\": range(2,25,5),\n",
    "              \"min_samples_split\": [2,3,4],\n",
    "              \"criterion\": [\"gini\"]}\n",
    "\n",
    "rf_rs = GridSearchCV(estimator=rf_cls,param_grid=param_dist,scoring='roc_auc', verbose=True, n_jobs=-1).fit(X_train,y_train)\n",
    "\n",
    "print('Best params achieve a train score of', abs(rf_rs.best_score_),'with the params:')\n",
    "rf_rs.best_params_"
   ]
  },
  {
   "cell_type": "code",
   "execution_count": null,
   "metadata": {
    "colab": {
     "base_uri": "https://localhost:8080/"
    },
    "executionInfo": {
     "elapsed": 59371,
     "status": "ok",
     "timestamp": 1623949641062,
     "user": {
      "displayName": "Sofia Marchesi",
      "photoUrl": "",
      "userId": "01949199438727912184"
     },
     "user_tz": 180
    },
    "id": "HaG6bfFPJtXD",
    "outputId": "ed635541-f35b-4971-c2a1-3b78aec1bb41"
   },
   "outputs": [
    {
     "name": "stdout",
     "output_type": "stream",
     "text": [
      "AUC: 0.7182505995723774\n",
      "[[4402 1462]\n",
      " [ 514 1122]]\n",
      "              precision    recall  f1-score   support\n",
      "\n",
      "           0       0.90      0.75      0.82      5864\n",
      "           1       0.43      0.69      0.53      1636\n",
      "\n",
      "    accuracy                           0.74      7500\n",
      "   macro avg       0.66      0.72      0.67      7500\n",
      "weighted avg       0.79      0.74      0.75      7500\n",
      "\n",
      "Cross validation Scores:\n",
      " [0.794908 0.782252 0.78224  0.771304 0.765896 0.762072 0.758076 0.761124\n",
      " 0.80434  0.780884]\n",
      "Cross validation Scores Mean:\n",
      " 0.7763096\n"
     ]
    }
   ],
   "source": [
    "rf_cls = RandomForestClassifier(random_state=0,\n",
    "                                min_samples_leaf=12,\n",
    "                                min_samples_split=2,\n",
    "                                n_estimators=400).fit(X_train,y_train)\n",
    "\n",
    "rf_cross = cross_val_score(rf_cls, X_train,y_train, cv=10, scoring='roc_auc')\n",
    "\n",
    "\n",
    "\n",
    "y_pred_rf = rf_cls.predict(X_test)\n",
    "\n",
    "\n",
    "print(\"AUC: {}\".format(roc_auc_score(y_test, y_pred_rf)))\n",
    "print(confusion_matrix(y_test, y_pred_rf))\n",
    "print(classification_report(y_test, y_pred_rf))  \n",
    "print('Cross validation Scores:\\n', (rf_cross))\n",
    "print('Cross validation Scores Mean:\\n', (rf_cross.mean()))"
   ]
  },
  {
   "cell_type": "markdown",
   "metadata": {
    "id": "_gbmnJaLRWxu"
   },
   "source": [
    "Choosing features with importance greater than zero"
   ]
  },
  {
   "cell_type": "code",
   "execution_count": null,
   "metadata": {
    "colab": {
     "base_uri": "https://localhost:8080/",
     "height": 1000
    },
    "executionInfo": {
     "elapsed": 47,
     "status": "ok",
     "timestamp": 1623949641065,
     "user": {
      "displayName": "Sofia Marchesi",
      "photoUrl": "",
      "userId": "01949199438727912184"
     },
     "user_tz": 180
    },
    "id": "xaFVpx3Kgxu7",
    "outputId": "02c1940e-c01b-44c5-b88b-383819dc36ad"
   },
   "outputs": [
    {
     "data": {
      "text/html": [
       "<div>\n",
       "<style scoped>\n",
       "    .dataframe tbody tr th:only-of-type {\n",
       "        vertical-align: middle;\n",
       "    }\n",
       "\n",
       "    .dataframe tbody tr th {\n",
       "        vertical-align: top;\n",
       "    }\n",
       "\n",
       "    .dataframe thead th {\n",
       "        text-align: right;\n",
       "    }\n",
       "</style>\n",
       "<table border=\"1\" class=\"dataframe\">\n",
       "  <thead>\n",
       "    <tr style=\"text-align: right;\">\n",
       "      <th></th>\n",
       "      <th>features</th>\n",
       "      <th>importances</th>\n",
       "    </tr>\n",
       "  </thead>\n",
       "  <tbody>\n",
       "    <tr>\n",
       "      <th>30</th>\n",
       "      <td>PAY_APR_2</td>\n",
       "      <td>0.116444</td>\n",
       "    </tr>\n",
       "    <tr>\n",
       "      <th>41</th>\n",
       "      <td>PAY_MAY_2</td>\n",
       "      <td>0.065057</td>\n",
       "    </tr>\n",
       "    <tr>\n",
       "      <th>28</th>\n",
       "      <td>PAY_APR_0</td>\n",
       "      <td>0.057045</td>\n",
       "    </tr>\n",
       "    <tr>\n",
       "      <th>0</th>\n",
       "      <td>LIMIT_BAL</td>\n",
       "      <td>0.053327</td>\n",
       "    </tr>\n",
       "    <tr>\n",
       "      <th>9</th>\n",
       "      <td>PAYAMT_SEP</td>\n",
       "      <td>0.050694</td>\n",
       "    </tr>\n",
       "    <tr>\n",
       "      <th>52</th>\n",
       "      <td>PAY_JUN_2</td>\n",
       "      <td>0.042218</td>\n",
       "    </tr>\n",
       "    <tr>\n",
       "      <th>10</th>\n",
       "      <td>PAYAMT_AUG</td>\n",
       "      <td>0.041078</td>\n",
       "    </tr>\n",
       "    <tr>\n",
       "      <th>3</th>\n",
       "      <td>BILL_APR</td>\n",
       "      <td>0.039327</td>\n",
       "    </tr>\n",
       "    <tr>\n",
       "      <th>11</th>\n",
       "      <td>PAYAMT_JUL</td>\n",
       "      <td>0.038711</td>\n",
       "    </tr>\n",
       "    <tr>\n",
       "      <th>4</th>\n",
       "      <td>BILL_MAY</td>\n",
       "      <td>0.036529</td>\n",
       "    </tr>\n",
       "    <tr>\n",
       "      <th>5</th>\n",
       "      <td>BILL_JUN</td>\n",
       "      <td>0.033024</td>\n",
       "    </tr>\n",
       "    <tr>\n",
       "      <th>14</th>\n",
       "      <td>PAYAMT_APR</td>\n",
       "      <td>0.032153</td>\n",
       "    </tr>\n",
       "    <tr>\n",
       "      <th>12</th>\n",
       "      <td>PAYAMT_JUN</td>\n",
       "      <td>0.031529</td>\n",
       "    </tr>\n",
       "    <tr>\n",
       "      <th>6</th>\n",
       "      <td>BILL_JUL</td>\n",
       "      <td>0.030654</td>\n",
       "    </tr>\n",
       "    <tr>\n",
       "      <th>7</th>\n",
       "      <td>BILL_AUG</td>\n",
       "      <td>0.029716</td>\n",
       "    </tr>\n",
       "    <tr>\n",
       "      <th>13</th>\n",
       "      <td>PAYAMT_MAY</td>\n",
       "      <td>0.029484</td>\n",
       "    </tr>\n",
       "    <tr>\n",
       "      <th>8</th>\n",
       "      <td>BILL_SEP</td>\n",
       "      <td>0.027985</td>\n",
       "    </tr>\n",
       "    <tr>\n",
       "      <th>73</th>\n",
       "      <td>PAY_AUG_2</td>\n",
       "      <td>0.026734</td>\n",
       "    </tr>\n",
       "    <tr>\n",
       "      <th>63</th>\n",
       "      <td>PAY_JUL_2</td>\n",
       "      <td>0.025307</td>\n",
       "    </tr>\n",
       "    <tr>\n",
       "      <th>2</th>\n",
       "      <td>AGE</td>\n",
       "      <td>0.024827</td>\n",
       "    </tr>\n",
       "    <tr>\n",
       "      <th>83</th>\n",
       "      <td>PAY_SEP_2</td>\n",
       "      <td>0.023827</td>\n",
       "    </tr>\n",
       "    <tr>\n",
       "      <th>39</th>\n",
       "      <td>PAY_MAY_0</td>\n",
       "      <td>0.017617</td>\n",
       "    </tr>\n",
       "    <tr>\n",
       "      <th>29</th>\n",
       "      <td>PAY_APR_1</td>\n",
       "      <td>0.011345</td>\n",
       "    </tr>\n",
       "    <tr>\n",
       "      <th>38</th>\n",
       "      <td>PAY_MAY_-1</td>\n",
       "      <td>0.009133</td>\n",
       "    </tr>\n",
       "    <tr>\n",
       "      <th>27</th>\n",
       "      <td>PAY_APR_-1</td>\n",
       "      <td>0.007778</td>\n",
       "    </tr>\n",
       "    <tr>\n",
       "      <th>49</th>\n",
       "      <td>PAY_JUN_-1</td>\n",
       "      <td>0.007468</td>\n",
       "    </tr>\n",
       "    <tr>\n",
       "      <th>1</th>\n",
       "      <td>SEX</td>\n",
       "      <td>0.006420</td>\n",
       "    </tr>\n",
       "    <tr>\n",
       "      <th>50</th>\n",
       "      <td>PAY_JUN_0</td>\n",
       "      <td>0.006318</td>\n",
       "    </tr>\n",
       "    <tr>\n",
       "      <th>61</th>\n",
       "      <td>PAY_JUL_0</td>\n",
       "      <td>0.005696</td>\n",
       "    </tr>\n",
       "    <tr>\n",
       "      <th>26</th>\n",
       "      <td>PAY_APR_-2</td>\n",
       "      <td>0.005539</td>\n",
       "    </tr>\n",
       "    <tr>\n",
       "      <th>60</th>\n",
       "      <td>PAY_JUL_-1</td>\n",
       "      <td>0.005273</td>\n",
       "    </tr>\n",
       "    <tr>\n",
       "      <th>23</th>\n",
       "      <td>MARRIAGE_M</td>\n",
       "      <td>0.005172</td>\n",
       "    </tr>\n",
       "    <tr>\n",
       "      <th>15</th>\n",
       "      <td>EDUCATION_0</td>\n",
       "      <td>0.005088</td>\n",
       "    </tr>\n",
       "    <tr>\n",
       "      <th>25</th>\n",
       "      <td>MARRIAGE_S</td>\n",
       "      <td>0.004899</td>\n",
       "    </tr>\n",
       "    <tr>\n",
       "      <th>16</th>\n",
       "      <td>EDUCATION_1</td>\n",
       "      <td>0.004869</td>\n",
       "    </tr>\n",
       "    <tr>\n",
       "      <th>31</th>\n",
       "      <td>PAY_APR_3</td>\n",
       "      <td>0.004522</td>\n",
       "    </tr>\n",
       "    <tr>\n",
       "      <th>81</th>\n",
       "      <td>PAY_SEP_-1</td>\n",
       "      <td>0.003993</td>\n",
       "    </tr>\n",
       "    <tr>\n",
       "      <th>37</th>\n",
       "      <td>PAY_MAY_-2</td>\n",
       "      <td>0.003813</td>\n",
       "    </tr>\n",
       "  </tbody>\n",
       "</table>\n",
       "</div>"
      ],
      "text/plain": [
       "       features  importances\n",
       "30    PAY_APR_2     0.116444\n",
       "41    PAY_MAY_2     0.065057\n",
       "28    PAY_APR_0     0.057045\n",
       "0     LIMIT_BAL     0.053327\n",
       "9    PAYAMT_SEP     0.050694\n",
       "52    PAY_JUN_2     0.042218\n",
       "10   PAYAMT_AUG     0.041078\n",
       "3      BILL_APR     0.039327\n",
       "11   PAYAMT_JUL     0.038711\n",
       "4      BILL_MAY     0.036529\n",
       "5      BILL_JUN     0.033024\n",
       "14   PAYAMT_APR     0.032153\n",
       "12   PAYAMT_JUN     0.031529\n",
       "6      BILL_JUL     0.030654\n",
       "7      BILL_AUG     0.029716\n",
       "13   PAYAMT_MAY     0.029484\n",
       "8      BILL_SEP     0.027985\n",
       "73    PAY_AUG_2     0.026734\n",
       "63    PAY_JUL_2     0.025307\n",
       "2           AGE     0.024827\n",
       "83    PAY_SEP_2     0.023827\n",
       "39    PAY_MAY_0     0.017617\n",
       "29    PAY_APR_1     0.011345\n",
       "38   PAY_MAY_-1     0.009133\n",
       "27   PAY_APR_-1     0.007778\n",
       "49   PAY_JUN_-1     0.007468\n",
       "1           SEX     0.006420\n",
       "50    PAY_JUN_0     0.006318\n",
       "61    PAY_JUL_0     0.005696\n",
       "26   PAY_APR_-2     0.005539\n",
       "60   PAY_JUL_-1     0.005273\n",
       "23   MARRIAGE_M     0.005172\n",
       "15  EDUCATION_0     0.005088\n",
       "25   MARRIAGE_S     0.004899\n",
       "16  EDUCATION_1     0.004869\n",
       "31    PAY_APR_3     0.004522\n",
       "81   PAY_SEP_-1     0.003993\n",
       "37   PAY_MAY_-2     0.003813"
      ]
     },
     "metadata": {
      "tags": []
     },
     "output_type": "display_data"
    },
    {
     "name": "stdout",
     "output_type": "stream",
     "text": [
      "None\n"
     ]
    },
    {
     "data": {
      "text/plain": [
       "63"
      ]
     },
     "execution_count": 69,
     "metadata": {
      "tags": []
     },
     "output_type": "execute_result"
    }
   ],
   "source": [
    "features_importances = pd.DataFrame({'features': features,'importances':rf_cls.feature_importances_}).sort_values(by='importances',ascending = False)\n",
    "print(display(features_importances[:38]))\n",
    "features1 = list(features_importances[features_importances['importances']!=0].features)\n",
    "len(features1)"
   ]
  },
  {
   "cell_type": "code",
   "execution_count": null,
   "metadata": {
    "colab": {
     "base_uri": "https://localhost:8080/",
     "height": 1000
    },
    "executionInfo": {
     "elapsed": 1802,
     "status": "ok",
     "timestamp": 1623949642854,
     "user": {
      "displayName": "Sofia Marchesi",
      "photoUrl": "",
      "userId": "01949199438727912184"
     },
     "user_tz": 180
    },
    "id": "p8i1zCONPt48",
    "outputId": "5bf1636b-24ab-4f8f-b75a-486b292bf44f"
   },
   "outputs": [
    {
     "data": {
      "image/png": "[encoded data removed]",
      "text/plain": [
       "<Figure size 1080x1440 with 1 Axes>"
      ]
     },
     "metadata": {
      "needs_background": "light",
      "tags": []
     },
     "output_type": "display_data"
    }
   ],
   "source": [
    "plt.figure(figsize = (15,20))\n",
    "plt.title('Features importances')\n",
    "s = sns.barplot(y='features',x='importances',data=features_importances[:65],orient='h')\n",
    "s.set_xticklabels(s.get_xticklabels(),rotation=90)\n",
    "plt.show() "
   ]
  },
  {
   "cell_type": "code",
   "execution_count": null,
   "metadata": {
    "colab": {
     "base_uri": "https://localhost:8080/",
     "height": 409
    },
    "executionInfo": {
     "elapsed": 42,
     "status": "ok",
     "timestamp": 1623949642864,
     "user": {
      "displayName": "Sofia Marchesi",
      "photoUrl": "",
      "userId": "01949199438727912184"
     },
     "user_tz": 180
    },
    "id": "k3AGp60xg7uw",
    "outputId": "05130aa1-d26a-4c40-c333-1b79ba69b411"
   },
   "outputs": [
    {
     "name": "stdout",
     "output_type": "stream",
     "text": [
      "1    5000\n",
      "0    5000\n",
      "dtype: int64\n"
     ]
    },
    {
     "name": "stderr",
     "output_type": "stream",
     "text": [
      "/usr/local/lib/python3.7/dist-packages/sklearn/utils/deprecation.py:87: FutureWarning: Function safe_indexing is deprecated; safe_indexing is deprecated in version 0.22 and will be removed in version 0.24.\n",
      "  warnings.warn(msg, category=FutureWarning)\n",
      "/usr/local/lib/python3.7/dist-packages/seaborn/_decorators.py:43: FutureWarning: Pass the following variable as a keyword arg: x. From version 0.12, the only valid positional argument will be `data`, and passing other arguments without an explicit keyword will result in an error or misinterpretation.\n",
      "  FutureWarning\n"
     ]
    },
    {
     "data": {
      "image/png": "[encoded data removed]",
      "text/plain": [
       "<Figure size 432x288 with 1 Axes>"
      ]
     },
     "metadata": {
      "needs_background": "light",
      "tags": []
     },
     "output_type": "display_data"
    }
   ],
   "source": [
    "y = df_default\n",
    "X = df_enc[features1]\n",
    "\n",
    "\n",
    "X_train, X_test, y_train, y_test = train_test_split(X,y,random_state=0,test_size=0.25)\n",
    "\n",
    "\n",
    "X_train, y_train = RandomUnderSampler().fit_sample(X_train, y_train)\n",
    "print(pd.Series(y_train).value_counts())\n",
    "sns.countplot(y_train)\n",
    "\n",
    "\n",
    "X_train = StandardScaler().fit_transform(X_train)\n",
    "X_test = StandardScaler().fit_transform(X_test)"
   ]
  },
  {
   "cell_type": "code",
   "execution_count": null,
   "metadata": {
    "colab": {
     "base_uri": "https://localhost:8080/"
    },
    "executionInfo": {
     "elapsed": 29,
     "status": "ok",
     "timestamp": 1623949642867,
     "user": {
      "displayName": "Sofia Marchesi",
      "photoUrl": "",
      "userId": "01949199438727912184"
     },
     "user_tz": 180
    },
    "id": "Le1JR0hf4bPE",
    "outputId": "01936f86-7654-46ef-80c8-e319ed9988e3"
   },
   "outputs": [
    {
     "data": {
      "text/plain": [
       "(10000, 63)"
      ]
     },
     "execution_count": 72,
     "metadata": {
      "tags": []
     },
     "output_type": "execute_result"
    }
   ],
   "source": [
    "X_train.shape"
   ]
  },
  {
   "cell_type": "code",
   "execution_count": null,
   "metadata": {
    "colab": {
     "base_uri": "https://localhost:8080/"
    },
    "executionInfo": {
     "elapsed": 747720,
     "status": "ok",
     "timestamp": 1623865688906,
     "user": {
      "displayName": "Sofia Marchesi",
      "photoUrl": "",
      "userId": "01949199438727912184"
     },
     "user_tz": 180
    },
    "id": "qHpT2jVSzqcu",
    "outputId": "9e6e550f-0b7e-4da6-e24a-dc265a7f1b80"
   },
   "outputs": [
    {
     "name": "stdout",
     "output_type": "stream",
     "text": [
      "Fitting 5 folds for each of 720 candidates, totalling 3600 fits\n"
     ]
    },
    {
     "name": "stderr",
     "output_type": "stream",
     "text": [
      "[Parallel(n_jobs=-1)]: Using backend LokyBackend with 2 concurrent workers.\n",
      "[Parallel(n_jobs=-1)]: Done  46 tasks      | elapsed:  4.7min\n",
      "[Parallel(n_jobs=-1)]: Done 196 tasks      | elapsed: 18.6min\n",
      "[Parallel(n_jobs=-1)]: Done 446 tasks      | elapsed: 39.0min\n",
      "[Parallel(n_jobs=-1)]: Done 796 tasks      | elapsed: 64.7min\n",
      "[Parallel(n_jobs=-1)]: Done 1246 tasks      | elapsed: 81.4min\n",
      "[Parallel(n_jobs=-1)]: Done 1796 tasks      | elapsed: 96.5min\n",
      "[Parallel(n_jobs=-1)]: Done 2446 tasks      | elapsed: 122.0min\n",
      "[Parallel(n_jobs=-1)]: Done 3196 tasks      | elapsed: 157.0min\n",
      "[Parallel(n_jobs=-1)]: Done 3600 out of 3600 | elapsed: 177.2min finished\n"
     ]
    },
    {
     "name": "stdout",
     "output_type": "stream",
     "text": [
      "Best params achieve a train score of 0.7770862 with the params:\n"
     ]
    }
   ],
   "source": [
    "rf_cls = RandomForestClassifier(random_state=0)\n",
    "\n",
    "param_dist = {\"n_estimators\": [400,450,500,550,600],\n",
    "              'max_depth': [None,2,4,6],\n",
    "              \"min_samples_leaf\": range(2,25,2),\n",
    "              \"min_samples_split\": [2,3,4],\n",
    "              \"criterion\": [\"gini\"]}\n",
    "\n",
    "rf_rs = GridSearchCV(estimator=rf_cls,param_grid=param_dist,scoring='roc_auc', verbose=True, n_jobs=-1).fit(X_train,y_train)\n",
    "\n",
    "\n",
    "\n",
    "print('Best params achieve a train score of', abs(rf_rs.best_score_),'with the params:')\n",
    "rf_rs.best_params_"
   ]
  },
  {
   "cell_type": "code",
   "execution_count": null,
   "metadata": {
    "id": "6M4hNEkNWjpf"
   },
   "outputs": [],
   "source": [
    "rf_cls = RandomForestClassifier(random_state=0,min_samples_leaf=12,min_samples_split=2,n_estimators=504).fit(X_train,y_train)#,class_weight=\"balanced\",\n",
    "\n",
    "rf_cross = cross_val_score(rf_cls, X_train,y_train, cv=10, scoring='roc_auc')\n",
    "\n",
    "\n",
    "y_pred_rf = rf_cls.predict(X_test)\n",
    "\n",
    "\n",
    "print(\"AUC: {}\".format(roc_auc_score(y_test, y_pred_rf)))\n",
    "print(confusion_matrix(y_test, y_pred_rf))\n",
    "print(classification_report(y_test, y_pred_rf))  \n",
    "print('Cross validation Scores:\\n', (rf_cross))\n",
    "print('Cross validation Scores Mean:\\n', (rf_cross.mean()))"
   ]
  },
  {
   "cell_type": "markdown",
   "metadata": {
    "id": "XNwsldy3kS9y"
   },
   "source": [
    "# 4.1. DecisionTreeClassifier"
   ]
  },
  {
   "cell_type": "code",
   "execution_count": null,
   "metadata": {
    "colab": {
     "base_uri": "https://localhost:8080/"
    },
    "executionInfo": {
     "elapsed": 5861,
     "status": "ok",
     "timestamp": 1623259569421,
     "user": {
      "displayName": "Sofia Marchesi",
      "photoUrl": "",
      "userId": "01949199438727912184"
     },
     "user_tz": 180
    },
    "id": "Ij8ynUUGj1js",
    "outputId": "e712beb6-3220-4d57-9fd8-883d182d4741"
   },
   "outputs": [
    {
     "name": "stdout",
     "output_type": "stream",
     "text": [
      "Fitting 5 folds for each of 12 candidates, totalling 60 fits\n"
     ]
    },
    {
     "name": "stderr",
     "output_type": "stream",
     "text": [
      "[Parallel(n_jobs=-1)]: Using backend LokyBackend with 2 concurrent workers.\n",
      "[Parallel(n_jobs=-1)]: Done  46 tasks      | elapsed:    4.1s\n",
      "[Parallel(n_jobs=-1)]: Done  60 out of  60 | elapsed:    5.2s finished\n"
     ]
    },
    {
     "name": "stdout",
     "output_type": "stream",
     "text": [
      "Best params achieve a train score of 0.7613551 with the params:\n"
     ]
    },
    {
     "data": {
      "text/plain": [
       "{'criterion': 'gini',\n",
       " 'max_depth': 7,\n",
       " 'max_features': None,\n",
       " 'min_samples_leaf': 41,\n",
       " 'min_samples_split': 2}"
      ]
     },
     "execution_count": 67,
     "metadata": {
      "tags": []
     },
     "output_type": "execute_result"
    }
   ],
   "source": [
    "dt = DecisionTreeClassifier(random_state=0)\n",
    "\n",
    "param_dist = {\n",
    "              'max_depth': [6,7,8],\n",
    "              \"min_samples_leaf\": [41,42],\n",
    "              \"min_samples_split\": [2,3], #0.5\n",
    "              \"criterion\": [\"gini\"],\n",
    "              \"max_features\":[None]}\n",
    "\n",
    "dt_rs = GridSearchCV(dt,param_dist,scoring='roc_auc', verbose=1,n_jobs=-1).fit(X_train,y_train)\n",
    "\n",
    "print('Best params achieve a train score of', abs(dt_rs.best_score_),'with the params:')\n",
    "dt_rs.best_params_"
   ]
  },
  {
   "cell_type": "code",
   "execution_count": null,
   "metadata": {
    "id": "OdG1MJZLpAJq"
   },
   "outputs": [],
   "source": [
    "dt = DecisionTreeClassifier(random_state=0,\n",
    "                            max_depth=6,\n",
    "                            min_samples_leaf=41,\n",
    "                            min_samples_split=2)"
   ]
  },
  {
   "cell_type": "code",
   "execution_count": null,
   "metadata": {
    "colab": {
     "background_save": true,
     "base_uri": "https://localhost:8080/"
    },
    "id": "yuZmfM38oswn",
    "outputId": "7cd4e5e3-fbb7-4cb2-991c-99161178ee91"
   },
   "outputs": [
    {
     "name": "stdout",
     "output_type": "stream",
     "text": [
      "Fitting 5 folds for each of 40 candidates, totalling 200 fits\n"
     ]
    },
    {
     "name": "stderr",
     "output_type": "stream",
     "text": [
      "[Parallel(n_jobs=-1)]: Using backend LokyBackend with 2 concurrent workers.\n",
      "[Parallel(n_jobs=-1)]: Done  46 tasks      | elapsed: 12.3min\n",
      "[Parallel(n_jobs=-1)]: Done 196 tasks      | elapsed: 54.1min\n",
      "[Parallel(n_jobs=-1)]: Done 200 out of 200 | elapsed: 55.8min finished\n"
     ]
    },
    {
     "name": "stdout",
     "output_type": "stream",
     "text": [
      "Tuned Decision Tree Parameters: {'algorithm': 'SAMME', 'learning_rate': 0.1, 'n_estimators': 400}\n",
      "Best score is 0.7066\n"
     ]
    }
   ],
   "source": [
    "param_dist = {'n_estimators': range(100,600,100), \n",
    "              'learning_rate': [0.1,0.01,0.001,0.0001],\n",
    "              'algorithm':['SAMME', 'SAMME.R']}\n",
    "\n",
    "ada = AdaBoostClassifier(dt,random_state=0)\n",
    "\n",
    "ada_cv = GridSearchCV(ada, param_dist, cv=5, n_jobs=-1,verbose=1).fit(X_train,y_train)\n",
    "\n",
    "\n",
    "# Print the tuned parameters and score\n",
    "print(\"Tuned Decision Tree Parameters: {}\".format(ada_cv.best_params_))\n",
    "print(\"Best score is {}\".format(ada_cv.best_score_))"
   ]
  },
  {
   "cell_type": "markdown",
   "metadata": {
    "id": "30f_-saCxLOY"
   },
   "source": [
    "# 4.2. XGBClassifier"
   ]
  },
  {
   "cell_type": "code",
   "execution_count": null,
   "metadata": {
    "colab": {
     "base_uri": "https://localhost:8080/"
    },
    "executionInfo": {
     "elapsed": 1798930,
     "status": "ok",
     "timestamp": 1623782890148,
     "user": {
      "displayName": "Sofia Marchesi",
      "photoUrl": "",
      "userId": "01949199438727912184"
     },
     "user_tz": 180
    },
    "id": "y2G174-SgwuD",
    "outputId": "c1bf0dad-e387-4a0c-e4ca-1f2cd3854f8f"
   },
   "outputs": [
    {
     "name": "stderr",
     "output_type": "stream",
     "text": [
      "/usr/local/lib/python3.7/dist-packages/skopt/optimizer/optimizer.py:449: UserWarning: The objective has been evaluated at this point before.\n",
      "  warnings.warn(\"The objective has been evaluated \"\n",
      "/usr/local/lib/python3.7/dist-packages/skopt/optimizer/optimizer.py:449: UserWarning: The objective has been evaluated at this point before.\n",
      "  warnings.warn(\"The objective has been evaluated \"\n",
      "/usr/local/lib/python3.7/dist-packages/skopt/optimizer/optimizer.py:449: UserWarning: The objective has been evaluated at this point before.\n",
      "  warnings.warn(\"The objective has been evaluated \"\n",
      "/usr/local/lib/python3.7/dist-packages/skopt/optimizer/optimizer.py:449: UserWarning: The objective has been evaluated at this point before.\n",
      "  warnings.warn(\"The objective has been evaluated \"\n",
      "/usr/local/lib/python3.7/dist-packages/skopt/optimizer/optimizer.py:449: UserWarning: The objective has been evaluated at this point before.\n",
      "  warnings.warn(\"The objective has been evaluated \"\n",
      "/usr/local/lib/python3.7/dist-packages/skopt/optimizer/optimizer.py:449: UserWarning: The objective has been evaluated at this point before.\n",
      "  warnings.warn(\"The objective has been evaluated \"\n",
      "/usr/local/lib/python3.7/dist-packages/skopt/optimizer/optimizer.py:449: UserWarning: The objective has been evaluated at this point before.\n",
      "  warnings.warn(\"The objective has been evaluated \"\n",
      "/usr/local/lib/python3.7/dist-packages/skopt/optimizer/optimizer.py:449: UserWarning: The objective has been evaluated at this point before.\n",
      "  warnings.warn(\"The objective has been evaluated \"\n",
      "/usr/local/lib/python3.7/dist-packages/skopt/optimizer/optimizer.py:449: UserWarning: The objective has been evaluated at this point before.\n",
      "  warnings.warn(\"The objective has been evaluated \"\n",
      "/usr/local/lib/python3.7/dist-packages/skopt/optimizer/optimizer.py:449: UserWarning: The objective has been evaluated at this point before.\n",
      "  warnings.warn(\"The objective has been evaluated \"\n",
      "/usr/local/lib/python3.7/dist-packages/skopt/optimizer/optimizer.py:449: UserWarning: The objective has been evaluated at this point before.\n",
      "  warnings.warn(\"The objective has been evaluated \"\n"
     ]
    }
   ],
   "source": [
    "xgb_cls = XGBClassifier(random_state=0, n_jobs=-1, objective='binary:logistic')\n",
    "\n",
    "space = {'max_depth': (0,10,'uniform'),\n",
    "         'n_estimators':(100,1000,'uniform'),\n",
    "         'eta':(0.01,0.1,'uniform'),\n",
    "         'colsample_bytree':(0.1,1.0,'uniform'),\n",
    "         'subsample':(0.1,1.0,'uniform'),\n",
    "         'min_child_weight':(0,10,'uniform')}\n",
    "\n",
    "\n",
    "opt = BayesSearchCV(xgb_cls,search_spaces=space,random_state=0,n_iter=100,scoring='roc_auc',n_jobs=-1).fit(X_train,y_train)"
   ]
  },
  {
   "cell_type": "code",
   "execution_count": null,
   "metadata": {
    "colab": {
     "base_uri": "https://localhost:8080/"
    },
    "executionInfo": {
     "elapsed": 14,
     "status": "ok",
     "timestamp": 1623788054417,
     "user": {
      "displayName": "Sofia Marchesi",
      "photoUrl": "",
      "userId": "01949199438727912184"
     },
     "user_tz": 180
    },
    "id": "QitzApIroYSM",
    "outputId": "b97c1ba2-64cc-421a-e77a-4d5abab1059a"
   },
   "outputs": [
    {
     "name": "stdout",
     "output_type": "stream",
     "text": [
      "Best params achieve a test score of 0.784918367678796 :\n",
      "Best params achieve a train score of 0.7784226999999999 :\n"
     ]
    },
    {
     "data": {
      "text/plain": [
       "{'colsample_bytree': 1,\n",
       " 'learning_rate': 0.0082,\n",
       " 'max_depth': 5,\n",
       " 'min_child_weight': 6,\n",
       " 'n_estimators': 700,\n",
       " 'subsample': 0.3}"
      ]
     },
     "execution_count": 80,
     "metadata": {
      "tags": []
     },
     "output_type": "execute_result"
    }
   ],
   "source": [
    "print('Best params achieve a test score of', abs(opt.score(X_test, y_test)), ':')\n",
    "print('Best params achieve a train score of', abs(opt.best_score_),':')\n",
    "opt.best_params_"
   ]
  },
  {
   "cell_type": "code",
   "execution_count": null,
   "metadata": {
    "id": "iyuDsPxH01ZX"
   },
   "outputs": [],
   "source": [
    "\n",
    "xgb_cls = XGBClassifier(max_depth=5,\n",
    "                        learning_rate=0.008,\n",
    "                        colsample_bytree=1,\n",
    "                        subsample= 0.3, \n",
    "                        n_estimators=700,\n",
    "                        min_child_weight=6,\n",
    "                        random_state=0,\n",
    "                        n_jobs=-1,\n",
    "                        objective='binary:logistic').fit(X_train,y_train)\n"
   ]
  },
  {
   "cell_type": "code",
   "execution_count": null,
   "metadata": {
    "colab": {
     "base_uri": "https://localhost:8080/"
    },
    "executionInfo": {
     "elapsed": 75973,
     "status": "ok",
     "timestamp": 1623789538524,
     "user": {
      "displayName": "Sofia Marchesi",
      "photoUrl": "",
      "userId": "01949199438727912184"
     },
     "user_tz": 180
    },
    "id": "IC3cKWY12y-i",
    "outputId": "bca04412-cc11-4d1c-c7c1-a7960d9950a9"
   },
   "outputs": [
    {
     "name": "stdout",
     "output_type": "stream",
     "text": [
      "AUC: 0.7084060214078194\n",
      "[[4136 1728]\n",
      " [ 472 1164]]\n",
      "              precision    recall  f1-score   support\n",
      "\n",
      "           0       0.90      0.71      0.79      5864\n",
      "           1       0.40      0.71      0.51      1636\n",
      "\n",
      "    accuracy                           0.71      7500\n",
      "   macro avg       0.65      0.71      0.65      7500\n",
      "weighted avg       0.79      0.71      0.73      7500\n",
      "\n",
      "Cross validation Scores:\n",
      " [0.789625  0.777085  0.7777565 0.7684465 0.778371 ]\n",
      "Cross validation Scores Mean:\n",
      " 0.7782568000000001\n"
     ]
    }
   ],
   "source": [
    "xgb_cross = cross_val_score(xgb_cls, X_train,y_train, cv=5, scoring='roc_auc')\n",
    "\n",
    "y_pred_xgb = xgb_cls.predict(X_test)\n",
    "\n",
    "print(\"AUC: {}\".format(roc_auc_score(y_test, y_pred_xgb)))\n",
    "print(confusion_matrix(y_test, y_pred_xgb))\n",
    "print(classification_report(y_test, y_pred_xgb))  \n",
    "print('Cross validation Scores:\\n', (xgb_cross))\n",
    "print('Cross validation Scores Mean:\\n', (xgb_cross.mean()))\n"
   ]
  },
  {
   "cell_type": "markdown",
   "metadata": {
    "id": "cPnMBVn4sP7T"
   },
   "source": [
    "# 4.3. SGDClassifier"
   ]
  },
  {
   "cell_type": "code",
   "execution_count": null,
   "metadata": {
    "colab": {
     "base_uri": "https://localhost:8080/"
    },
    "executionInfo": {
     "elapsed": 225159,
     "status": "ok",
     "timestamp": 1623946068080,
     "user": {
      "displayName": "Sofia Marchesi",
      "photoUrl": "",
      "userId": "01949199438727912184"
     },
     "user_tz": 180
    },
    "id": "VyG44ITgsgTk",
    "outputId": "14780035-19c7-40c7-e146-4bf2823055ba"
   },
   "outputs": [
    {
     "name": "stdout",
     "output_type": "stream",
     "text": [
      "Fitting 5 folds for each of 602 candidates, totalling 3010 fits\n"
     ]
    },
    {
     "name": "stderr",
     "output_type": "stream",
     "text": [
      "[Parallel(n_jobs=-1)]: Using backend LokyBackend with 2 concurrent workers.\n",
      "[Parallel(n_jobs=-1)]: Done  72 tasks      | elapsed:    3.6s\n",
      "[Parallel(n_jobs=-1)]: Done 372 tasks      | elapsed:   15.5s\n",
      "[Parallel(n_jobs=-1)]: Done 872 tasks      | elapsed:   34.2s\n",
      "[Parallel(n_jobs=-1)]: Done 1572 tasks      | elapsed:  1.1min\n",
      "[Parallel(n_jobs=-1)]: Done 2472 tasks      | elapsed:  2.5min\n",
      "[Parallel(n_jobs=-1)]: Done 3007 out of 3010 | elapsed:  3.7min remaining:    0.2s\n"
     ]
    },
    {
     "name": "stdout",
     "output_type": "stream",
     "text": [
      "Tuned Decision Logistic Regression: {'alpha': 0.016840000000000008, 'loss': 'log', 'penalty': 'l2'}\n",
      "Best score is 0.7684014\n"
     ]
    },
    {
     "name": "stderr",
     "output_type": "stream",
     "text": [
      "[Parallel(n_jobs=-1)]: Done 3010 out of 3010 | elapsed:  3.8min finished\n"
     ]
    }
   ],
   "source": [
    "sgd = SGDClassifier(random_state=0)#{1:3.52,0:1})\n",
    "\n",
    "param_grid = {'penalty': ['l2','l1'],\n",
    "              \"loss\":['log'],\n",
    "             'alpha': np.linspace(0.1,0.001,301)}\n",
    "            \n",
    "\n",
    "sgd_cv = GridSearchCV(sgd, param_grid,verbose=1, n_jobs=-1, scoring=\"roc_auc\").fit(X_train,y_train)\n",
    "\n",
    "print(\"Tuned Decision SGDClassifier: {}\".format(sgd_cv.best_params_))\n",
    "print(\"Best score is {}\".format(sgd_cv.best_score_))"
   ]
  },
  {
   "cell_type": "markdown",
   "metadata": {
    "id": "bOihWK010iwn"
   },
   "source": [
    "# 4.4. Logistic Regression"
   ]
  },
  {
   "cell_type": "code",
   "execution_count": null,
   "metadata": {
    "colab": {
     "base_uri": "https://localhost:8080/"
    },
    "executionInfo": {
     "elapsed": 91089,
     "status": "ok",
     "timestamp": 1623946159143,
     "user": {
      "displayName": "Sofia Marchesi",
      "photoUrl": "",
      "userId": "01949199438727912184"
     },
     "user_tz": 180
    },
    "id": "B2gXyD9o0mMD",
    "outputId": "2bab9099-c818-4ef3-b7b3-a181a76ecdfa"
   },
   "outputs": [
    {
     "name": "stderr",
     "output_type": "stream",
     "text": [
      "[Parallel(n_jobs=1)]: Using backend SequentialBackend with 1 concurrent workers.\n"
     ]
    },
    {
     "name": "stdout",
     "output_type": "stream",
     "text": [
      "Fitting 5 folds for each of 201 candidates, totalling 1005 fits\n",
      "Tuned Decision Logistic Regression: {'C': 0.0028719999999999996, 'penalty': 'l2', 'solver': 'liblinear'}\n",
      "Best score is 0.7683956000000001\n"
     ]
    },
    {
     "name": "stderr",
     "output_type": "stream",
     "text": [
      "[Parallel(n_jobs=1)]: Done 1005 out of 1005 | elapsed:  1.5min finished\n"
     ]
    }
   ],
   "source": [
    "lg = LogisticRegression(random_state=0, max_iter=10000)\n",
    "\n",
    "param_grid = {'solver':['liblinear'],\n",
    "              'penalty': ['l2'],\n",
    "             'C': np.linspace(0.01,0.0001,201)}\n",
    "\n",
    "lg_cv = GridSearchCV(lg, param_grid,scoring=\"roc_auc\", verbose=1).fit(X_train,y_train)\n",
    "\n",
    "\n",
    "print(\"Tuned Decision Logistic Regression: {}\".format(lg_cv.best_params_))\n",
    "print(\"Best score is {}\".format(lg_cv.best_score_))"
   ]
  },
  {
   "cell_type": "markdown",
   "metadata": {
    "id": "mtjAeZ8Ds9wt"
   },
   "source": [
    "# 4.5. Ridge"
   ]
  },
  {
   "cell_type": "code",
   "execution_count": null,
   "metadata": {
    "colab": {
     "base_uri": "https://localhost:8080/"
    },
    "executionInfo": {
     "elapsed": 261112,
     "status": "ok",
     "timestamp": 1623779221098,
     "user": {
      "displayName": "Sofia Marchesi",
      "photoUrl": "",
      "userId": "01949199438727912184"
     },
     "user_tz": 180
    },
    "id": "5P434b-Ds_iS",
    "outputId": "5741a2ee-9877-4db1-9ac9-c299a80d42a1"
   },
   "outputs": [
    {
     "name": "stdout",
     "output_type": "stream",
     "text": [
      "Fitting 5 folds for each of 200 candidates, totalling 1000 fits\n"
     ]
    },
    {
     "name": "stderr",
     "output_type": "stream",
     "text": [
      "[Parallel(n_jobs=-1)]: Using backend LokyBackend with 2 concurrent workers.\n",
      "[Parallel(n_jobs=-1)]: Done  46 tasks      | elapsed:   12.2s\n",
      "[Parallel(n_jobs=-1)]: Done 196 tasks      | elapsed:   51.1s\n",
      "[Parallel(n_jobs=-1)]: Done 446 tasks      | elapsed:  2.0min\n",
      "[Parallel(n_jobs=-1)]: Done 796 tasks      | elapsed:  3.5min\n",
      "[Parallel(n_jobs=-1)]: Done 1000 out of 1000 | elapsed:  4.3min finished\n"
     ]
    },
    {
     "name": "stdout",
     "output_type": "stream",
     "text": [
      "Best params achieve a test score of 0.7725462979949766\n",
      "Best params achieve a train score of 0.7624615 with the params:\n"
     ]
    },
    {
     "data": {
      "text/plain": [
       "{'alpha': 3782, 'solver': 'saga'}"
      ]
     },
     "execution_count": 66,
     "metadata": {
      "tags": []
     },
     "output_type": "execute_result"
    }
   ],
   "source": [
    "rg_cls = RidgeClassifier(random_state=0)\n",
    "param_grid = {\n",
    "              'alpha':range(3700,3900),\n",
    "              'solver':['saga']\n",
    "}\n",
    "\n",
    "rg_rs = GridSearchCV(rg_cls,param_grid,scoring='roc_auc',n_jobs=-1, verbose=1).fit(X_train,y_train)\n",
    "\n",
    "\n",
    "print('Best params achieve a test score of', abs(rg_rs.score(X_test, y_test)))\n",
    "print('Best params achieve a train score of', abs(rg_rs.best_score_),'with the params:')\n",
    "rg_rs.best_params_"
   ]
  }
 ],
 "metadata": {
  "colab": {
   "collapsed_sections": [
    "vxkupjHxDSMV"
   ],
   "name": "CreditCardDefault_Taiwan.ipynb",
   "provenance": [
    {
     "file_id": "12tgdd1px3dL79J43UfeJiod0M5Ng0WiN",
     "timestamp": 1623949823031
    },
    {
     "file_id": "1ifb_wTDsS6v-p28xOmKUjbpa3MJyrVFU",
     "timestamp": 1622484535140
    },
    {
     "file_id": "12wkTs6u96WLfe3jn7NXrl8tS7nGhG4os",
     "timestamp": 1608315013360
    },
    {
     "file_id": "1-kAqaeLIeeRREfBdaAeUnMXia2-kRp40",
     "timestamp": 1606154756428
    }
   ]
  },
  "kernelspec": {
   "display_name": "Python 3",
   "language": "python",
   "name": "python3"
  },
  "language_info": {
   "codemirror_mode": {
    "name": "ipython",
    "version": 3
   },
   "file_extension": ".py",
   "mimetype": "text/x-python",
   "name": "python",
   "nbconvert_exporter": "python",
   "pygments_lexer": "ipython3",
   "version": "3.7.6"
  }
 },
 "nbformat": 4,
 "nbformat_minor": 1
}
